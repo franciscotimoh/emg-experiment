{
 "cells": [
  {
   "cell_type": "markdown",
   "id": "61a08853-15d5-477a-8df5-3183ce5c379c",
   "metadata": {},
   "source": [
    "# Data Loading"
   ]
  },
  {
   "cell_type": "code",
   "execution_count": 1,
   "id": "55768972-5a12-4c6e-b1fb-3478c4805709",
   "metadata": {},
   "outputs": [],
   "source": [
    "import os\n",
    "import pandas as pd"
   ]
  },
  {
   "cell_type": "code",
   "execution_count": 2,
   "id": "a7016b4e-a005-4ce8-bc79-fe0808df2ce4",
   "metadata": {},
   "outputs": [],
   "source": [
    "master_folder = \"../EMG_data_for_gestures-master\"\n",
    "cleaned_data_by_subject = {}"
   ]
  },
  {
   "cell_type": "code",
   "execution_count": 3,
   "id": "046ad31a-a821-4fe1-a4b3-ef48db3378c6",
   "metadata": {},
   "outputs": [
    {
     "name": "stdout",
     "output_type": "stream",
     "text": [
      "Loaded and cleaned data for 36 subjects.\n"
     ]
    }
   ],
   "source": [
    "# Loop through each subject's folder\n",
    "for subject_folder in sorted(os.listdir(master_folder)):\n",
    "    subject_path = os.path.join(master_folder, subject_folder)\n",
    "\n",
    "    if os.path.isdir(subject_path):  # Check if it's a directory\n",
    "        subject_number = int(subject_folder)  # Convert subject folder name to an integer\n",
    "        \n",
    "        trials = []\n",
    "        \n",
    "        for file_name in sorted(os.listdir(subject_path)):\n",
    "            if file_name.endswith('.txt'):\n",
    "                file_path = os.path.join(subject_path, file_name)\n",
    "                \n",
    "                # Load the .txt file with proper handling for mixed types and whitespace delimiter\n",
    "                df = pd.read_csv(file_path, delim_whitespace=True, dtype=str)  # Load as strings to avoid dtype issues\n",
    "\n",
    "                # Drop 'time' column\n",
    "                df.drop('time', inplace=True, axis=1)\n",
    "                \n",
    "                # Drop rows where 'class' column has NaNs or non-numeric values\n",
    "                df = df[df[\"class\"].notna() & df[\"class\"].str.isnumeric()]\n",
    "                \n",
    "                # Convert 'class' column to integer\n",
    "                df[\"class\"] = df[\"class\"].astype(int)\n",
    "                \n",
    "                # Keep only relevant classes (1 to 6) and drop others\n",
    "                df = df[df[\"class\"].isin([1, 2, 3, 4, 5, 6])]\n",
    "                \n",
    "                # Append the cleaned trial data to the list\n",
    "                trials.append(df)\n",
    "        \n",
    "        # Concatenate trials for the current subject\n",
    "        subject_data = pd.concat(trials, axis=0).reset_index(drop=True)\n",
    "        \n",
    "        # Store the cleaned data for the subject\n",
    "        cleaned_data_by_subject[subject_number] = subject_data\n",
    "\n",
    "print(f\"Loaded and cleaned data for {len(cleaned_data_by_subject)} subjects.\")"
   ]
  },
  {
   "cell_type": "markdown",
   "id": "1abe93e4-6a9e-4c8e-ad48-eb9df15b3c09",
   "metadata": {},
   "source": [
    "# Sliding Window - 1st CNN"
   ]
  },
  {
   "cell_type": "code",
   "execution_count": 4,
   "id": "7f7dc358-4ed8-4043-8714-2d70f212a507",
   "metadata": {},
   "outputs": [],
   "source": [
    "import numpy as np\n",
    "from scipy.stats import mode"
   ]
  },
  {
   "cell_type": "code",
   "execution_count": 5,
   "id": "bf64039b-745f-48d2-afe0-f611c70c61de",
   "metadata": {},
   "outputs": [],
   "source": [
    "# Function to apply sliding window segmentation\n",
    "def create_sliding_windows(data, window_size=200, step_size=50):\n",
    "    windows = []\n",
    "    labels = []\n",
    "    \n",
    "    num_samples = len(data)\n",
    "    \n",
    "    for start in range(0, num_samples - window_size + 1, step_size):\n",
    "        # Extract the window\n",
    "        window = data.iloc[start:start + window_size, :-1].values  # All columns except the last (class label)\n",
    "        label = data.iloc[start:start + window_size, -1]  # Class labels for the window\n",
    "        \n",
    "        # Assign the label as the mode (most frequent class) in the window\n",
    "        window_label = mode(label).mode  # Extract mode value\n",
    "        \n",
    "        # Handle scalar or array output from mode\n",
    "        if isinstance(window_label, np.ndarray):\n",
    "            window_label = window_label[0]\n",
    "        \n",
    "        windows.append(window)\n",
    "        labels.append(window_label)\n",
    "    \n",
    "    return np.array(windows), np.array(labels)"
   ]
  },
  {
   "cell_type": "code",
   "execution_count": 6,
   "id": "db6443aa-9969-4027-91a5-ec7fdb5b53bc",
   "metadata": {},
   "outputs": [
    {
     "name": "stdout",
     "output_type": "stream",
     "text": [
      "Sliding window segmentation completed.\n"
     ]
    }
   ],
   "source": [
    "# Apply sliding windows for each subject\n",
    "window_size = 200  # Adjust as needed\n",
    "step_size = 50     # Adjust as needed\n",
    "\n",
    "windowed_data_by_subject = {}\n",
    "\n",
    "for subject_id, data in cleaned_data_by_subject.items():\n",
    "    windows, labels = create_sliding_windows(data, window_size, step_size)\n",
    "    windowed_data_by_subject[subject_id] = (windows, labels)\n",
    "\n",
    "print(\"Sliding window segmentation completed.\")"
   ]
  },
  {
   "cell_type": "code",
   "execution_count": 7,
   "id": "3e734dea-2897-4800-9e40-664893a5d1f9",
   "metadata": {},
   "outputs": [
    {
     "name": "stdout",
     "output_type": "stream",
     "text": [
      "Total windows: 29854, Total labels: 29854\n"
     ]
    }
   ],
   "source": [
    "# Initialize empty lists to hold combined data and labels\n",
    "all_windows = []\n",
    "all_labels = []\n",
    "\n",
    "# Combine windows and labels from all subjects\n",
    "for subject_id, (windows, labels) in windowed_data_by_subject.items():\n",
    "    all_windows.append(windows)\n",
    "    all_labels.append(labels)\n",
    "\n",
    "# Concatenate the lists into arrays\n",
    "all_windows = np.concatenate(all_windows, axis=0)\n",
    "all_labels = np.concatenate(all_labels, axis=0)\n",
    "\n",
    "print(f\"Total windows: {all_windows.shape[0]}, Total labels: {all_labels.shape[0]}\")"
   ]
  },
  {
   "cell_type": "code",
   "execution_count": 8,
   "id": "f47d5e97-1329-495f-a5a0-9fcd37a8b4b8",
   "metadata": {},
   "outputs": [
    {
     "name": "stdout",
     "output_type": "stream",
     "text": [
      "Training samples: 23883, Testing samples: 5971\n"
     ]
    }
   ],
   "source": [
    "from sklearn.model_selection import train_test_split\n",
    "\n",
    "# Split data into 80% training and 20% testing\n",
    "X_train, X_test, y_train, y_test = train_test_split(all_windows, all_labels, test_size=0.2, random_state=42)\n",
    "\n",
    "print(f\"Training samples: {X_train.shape[0]}, Testing samples: {X_test.shape[0]}\")"
   ]
  },
  {
   "cell_type": "code",
   "execution_count": 9,
   "id": "78d19927-bb35-46a6-b9dd-4944870783cc",
   "metadata": {},
   "outputs": [
    {
     "name": "stdout",
     "output_type": "stream",
     "text": [
      "X_train.shape (23883, 200, 8)\n",
      "X_test.shape (5971, 200, 8)\n",
      "y_train.shape (23883,)\n",
      "y_test.shape (5971,)\n"
     ]
    }
   ],
   "source": [
    "print(\"X_train.shape\",X_train.shape)\n",
    "print(\"X_test.shape\",X_test.shape)\n",
    "print(\"y_train.shape\", y_train.shape)\n",
    "print(\"y_test.shape\",y_test.shape)"
   ]
  },
  {
   "cell_type": "code",
   "execution_count": 11,
   "id": "664af7e6-fe99-4134-aa0b-10a5abb3e688",
   "metadata": {},
   "outputs": [],
   "source": [
    "# Convert training and testing data to float\n",
    "X_train = X_train.astype(float)\n",
    "X_test = X_test.astype(float)"
   ]
  },
  {
   "cell_type": "code",
   "execution_count": 18,
   "id": "0c89204a-73f2-4388-baa7-894b7c62f848",
   "metadata": {},
   "outputs": [
    {
     "name": "stdout",
     "output_type": "stream",
     "text": [
      "Class labels have been zero-indexed.\n"
     ]
    }
   ],
   "source": [
    "# Zero-index the class labels by subtracting 1\n",
    "y_train -= 1\n",
    "y_test -= 1\n",
    "\n",
    "print(\"Class labels have been zero-indexed.\")"
   ]
  },
  {
   "cell_type": "code",
   "execution_count": 19,
   "id": "e1b7d15d-8f97-4f60-84c7-10314fa11f25",
   "metadata": {},
   "outputs": [
    {
     "name": "stdout",
     "output_type": "stream",
     "text": [
      "Data normalization completed.\n"
     ]
    }
   ],
   "source": [
    "# Normalize the training and testing data using min-max normalization\n",
    "X_train = (X_train - X_train.min(axis=(1, 2), keepdims=True)) / (X_train.max(axis=(1, 2), keepdims=True) - X_train.min(axis=(1, 2), keepdims=True) + 1e-8)\n",
    "X_test = (X_test - X_test.min(axis=(1, 2), keepdims=True)) / (X_test.max(axis=(1, 2), keepdims=True) - X_test.min(axis=(1, 2), keepdims=True) + 1e-8)\n",
    "\n",
    "print(\"Data normalization completed.\")"
   ]
  },
  {
   "cell_type": "code",
   "execution_count": 20,
   "id": "055d706f-8f82-411f-972a-728705389c20",
   "metadata": {},
   "outputs": [],
   "source": [
    "from tensorflow.keras.models import Sequential\n",
    "from tensorflow.keras.layers import Conv1D, MaxPooling1D, Flatten, Dense\n",
    "\n",
    "# Define the CNN model function\n",
    "def CNN_model(input_shape, num_classes):\n",
    "    model = Sequential()\n",
    "\n",
    "    # Convolutional layers\n",
    "    model.add(Conv1D(32, kernel_size=3, activation='relu', input_shape=input_shape))\n",
    "    model.add(MaxPooling1D(pool_size=2))\n",
    "\n",
    "    model.add(Conv1D(64, kernel_size=3, activation='relu'))\n",
    "    model.add(MaxPooling1D(pool_size=2))\n",
    "\n",
    "    # Flattening layers\n",
    "    model.add(Flatten())\n",
    "\n",
    "    # Fully connected layers\n",
    "    model.add(Dense(128, activation='relu'))\n",
    "    model.add(Dense(num_classes, activation='softmax'))\n",
    "\n",
    "    # Compile the model\n",
    "    model.compile(optimizer='adam', loss='sparse_categorical_crossentropy', metrics=['accuracy'])\n",
    "\n",
    "    # Print the model summary\n",
    "    model.summary()\n",
    "    \n",
    "    return model"
   ]
  },
  {
   "cell_type": "code",
   "execution_count": 21,
   "id": "12fbe18e-0f9d-4d68-8b7c-dffb480de977",
   "metadata": {},
   "outputs": [
    {
     "name": "stdout",
     "output_type": "stream",
     "text": [
      "Model: \"sequential_1\"\n",
      "_________________________________________________________________\n",
      " Layer (type)                Output Shape              Param #   \n",
      "=================================================================\n",
      " conv1d_2 (Conv1D)           (None, 198, 32)           800       \n",
      "                                                                 \n",
      " max_pooling1d_2 (MaxPoolin  (None, 99, 32)            0         \n",
      " g1D)                                                            \n",
      "                                                                 \n",
      " conv1d_3 (Conv1D)           (None, 97, 64)            6208      \n",
      "                                                                 \n",
      " max_pooling1d_3 (MaxPoolin  (None, 48, 64)            0         \n",
      " g1D)                                                            \n",
      "                                                                 \n",
      " flatten_1 (Flatten)         (None, 3072)              0         \n",
      "                                                                 \n",
      " dense_2 (Dense)             (None, 128)               393344    \n",
      "                                                                 \n",
      " dense_3 (Dense)             (None, 6)                 774       \n",
      "                                                                 \n",
      "=================================================================\n",
      "Total params: 401126 (1.53 MB)\n",
      "Trainable params: 401126 (1.53 MB)\n",
      "Non-trainable params: 0 (0.00 Byte)\n",
      "_________________________________________________________________\n"
     ]
    }
   ],
   "source": [
    "# Define input shape and number of classes\n",
    "input_shape = (X_train.shape[1], X_train.shape[2])  # (window_size, num_channels)\n",
    "num_classes = len(np.unique(y_train))  # Assuming 6 classes (0 to 5)\n",
    "\n",
    "# Create the CNN model\n",
    "model = CNN_model(input_shape, num_classes)"
   ]
  },
  {
   "cell_type": "code",
   "execution_count": 22,
   "id": "65eb7509-8e3a-4bb3-9014-4087332a2644",
   "metadata": {},
   "outputs": [
    {
     "data": {
      "text/plain": [
       "(29854, 200, 8)"
      ]
     },
     "execution_count": 22,
     "metadata": {},
     "output_type": "execute_result"
    }
   ],
   "source": [
    "all_windows.shape"
   ]
  },
  {
   "cell_type": "code",
   "execution_count": 23,
   "id": "a609cdc2-3240-4191-86b0-7bf9f43d4c87",
   "metadata": {},
   "outputs": [
    {
     "name": "stdout",
     "output_type": "stream",
     "text": [
      "Epoch 1/20\n",
      "747/747 [==============================] - 4s 5ms/step - loss: 1.0310 - accuracy: 0.5998 - val_loss: 0.7954 - val_accuracy: 0.7031\n",
      "Epoch 2/20\n",
      "747/747 [==============================] - 3s 4ms/step - loss: 0.7086 - accuracy: 0.7363 - val_loss: 0.6851 - val_accuracy: 0.7426\n",
      "Epoch 3/20\n",
      "747/747 [==============================] - 3s 4ms/step - loss: 0.6137 - accuracy: 0.7663 - val_loss: 0.6484 - val_accuracy: 0.7553\n",
      "Epoch 4/20\n",
      "747/747 [==============================] - 3s 4ms/step - loss: 0.5519 - accuracy: 0.7882 - val_loss: 0.6138 - val_accuracy: 0.7734\n",
      "Epoch 5/20\n",
      "747/747 [==============================] - 3s 4ms/step - loss: 0.4851 - accuracy: 0.8125 - val_loss: 0.6013 - val_accuracy: 0.7701\n",
      "Epoch 6/20\n",
      "747/747 [==============================] - 3s 5ms/step - loss: 0.4275 - accuracy: 0.8338 - val_loss: 0.6162 - val_accuracy: 0.7776\n",
      "Epoch 7/20\n",
      "747/747 [==============================] - 3s 5ms/step - loss: 0.3746 - accuracy: 0.8569 - val_loss: 0.6042 - val_accuracy: 0.7813\n",
      "Epoch 8/20\n",
      "747/747 [==============================] - 3s 4ms/step - loss: 0.3237 - accuracy: 0.8763 - val_loss: 0.6232 - val_accuracy: 0.7788\n",
      "Epoch 9/20\n",
      "747/747 [==============================] - 3s 4ms/step - loss: 0.2650 - accuracy: 0.8978 - val_loss: 0.6835 - val_accuracy: 0.7788\n",
      "Epoch 10/20\n",
      "747/747 [==============================] - 3s 4ms/step - loss: 0.2273 - accuracy: 0.9150 - val_loss: 0.6908 - val_accuracy: 0.7778\n",
      "Epoch 11/20\n",
      "747/747 [==============================] - 3s 4ms/step - loss: 0.1849 - accuracy: 0.9294 - val_loss: 0.6740 - val_accuracy: 0.7826\n",
      "Epoch 12/20\n",
      "747/747 [==============================] - 4s 5ms/step - loss: 0.1486 - accuracy: 0.9458 - val_loss: 0.7725 - val_accuracy: 0.7776\n",
      "Epoch 13/20\n",
      "747/747 [==============================] - 4s 5ms/step - loss: 0.1240 - accuracy: 0.9561 - val_loss: 0.9631 - val_accuracy: 0.7603\n",
      "Epoch 14/20\n",
      "747/747 [==============================] - 3s 5ms/step - loss: 0.0988 - accuracy: 0.9653 - val_loss: 0.9156 - val_accuracy: 0.7707\n",
      "Epoch 15/20\n",
      "747/747 [==============================] - 3s 4ms/step - loss: 0.0835 - accuracy: 0.9725 - val_loss: 0.9573 - val_accuracy: 0.7786\n",
      "Epoch 16/20\n",
      "747/747 [==============================] - 3s 4ms/step - loss: 0.0846 - accuracy: 0.9719 - val_loss: 0.9706 - val_accuracy: 0.7806\n",
      "Epoch 17/20\n",
      "747/747 [==============================] - 3s 4ms/step - loss: 0.0549 - accuracy: 0.9827 - val_loss: 1.0950 - val_accuracy: 0.7682\n",
      "Epoch 18/20\n",
      "747/747 [==============================] - 3s 4ms/step - loss: 0.0640 - accuracy: 0.9785 - val_loss: 1.1185 - val_accuracy: 0.7756\n",
      "Epoch 19/20\n",
      "747/747 [==============================] - 3s 4ms/step - loss: 0.0561 - accuracy: 0.9812 - val_loss: 1.1601 - val_accuracy: 0.7692\n",
      "Epoch 20/20\n",
      "747/747 [==============================] - 3s 4ms/step - loss: 0.0385 - accuracy: 0.9877 - val_loss: 1.3058 - val_accuracy: 0.7650\n",
      "Model training completed.\n"
     ]
    }
   ],
   "source": [
    "# Train the CNN model\n",
    "history = model.fit(X_train, y_train, validation_data=(X_test, y_test), epochs=20, batch_size=32)\n",
    "print(\"Model training completed.\")"
   ]
  },
  {
   "cell_type": "code",
   "execution_count": 24,
   "id": "e81fa56d-d7ce-4291-91ea-045136b4ebbd",
   "metadata": {},
   "outputs": [
    {
     "name": "stdout",
     "output_type": "stream",
     "text": [
      "Test Loss: 1.3058\n",
      "Test Accuracy: 0.7650\n"
     ]
    }
   ],
   "source": [
    "# Evaluate the model on the test set\n",
    "test_loss, test_accuracy = model.evaluate(X_test, y_test, verbose=0)\n",
    "\n",
    "print(f\"Test Loss: {test_loss:.4f}\")\n",
    "print(f\"Test Accuracy: {test_accuracy:.4f}\")"
   ]
  },
  {
   "cell_type": "code",
   "execution_count": 25,
   "id": "130c8b32-b057-48f9-bd11-0b1b3c70e0a4",
   "metadata": {},
   "outputs": [
    {
     "data": {
      "image/png": "[encoded data removed]",
      "text/plain": [
       "<Figure size 640x480 with 1 Axes>"
      ]
     },
     "metadata": {},
     "output_type": "display_data"
    },
    {
     "data": {
      "image/png": "[encoded data removed]",
      "text/plain": [
       "<Figure size 640x480 with 1 Axes>"
      ]
     },
     "metadata": {},
     "output_type": "display_data"
    }
   ],
   "source": [
    "import matplotlib.pyplot as plt\n",
    "\n",
    "# Plot accuracy curves\n",
    "plt.plot(history.history['accuracy'], label='Training Accuracy')\n",
    "plt.plot(history.history['val_accuracy'], label='Validation Accuracy')\n",
    "plt.xlabel('Epochs')\n",
    "plt.ylabel('Accuracy')\n",
    "plt.legend()\n",
    "plt.title('Training and Validation Accuracy')\n",
    "plt.show()\n",
    "\n",
    "# Plot loss curves\n",
    "plt.plot(history.history['loss'], label='Training Loss')\n",
    "plt.plot(history.history['val_loss'], label='Validation Loss')\n",
    "plt.xlabel('Epochs')\n",
    "plt.ylabel('Loss')\n",
    "plt.legend()\n",
    "plt.title('Training and Validation Loss')\n",
    "plt.show()"
   ]
  }
 ],
 "metadata": {
  "kernelspec": {
   "display_name": "Python 3 (ipykernel)",
   "language": "python",
   "name": "python3"
  },
  "language_info": {
   "codemirror_mode": {
    "name": "ipython",
    "version": 3
   },
   "file_extension": ".py",
   "mimetype": "text/x-python",
   "name": "python",
   "nbconvert_exporter": "python",
   "pygments_lexer": "ipython3",
   "version": "3.10.15"
  }
 },
 "nbformat": 4,
 "nbformat_minor": 5
}
