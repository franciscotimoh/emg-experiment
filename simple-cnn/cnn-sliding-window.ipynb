{
 "cells": [
  {
   "cell_type": "markdown",
   "id": "61a08853-15d5-477a-8df5-3183ce5c379c",
   "metadata": {},
   "source": [
    "# Data Loading"
   ]
  },
  {
   "cell_type": "code",
   "execution_count": 1,
   "id": "55768972-5a12-4c6e-b1fb-3478c4805709",
   "metadata": {},
   "outputs": [],
   "source": [
    "import os\n",
    "import pandas as pd"
   ]
  },
  {
   "cell_type": "code",
   "execution_count": 2,
   "id": "a7016b4e-a005-4ce8-bc79-fe0808df2ce4",
   "metadata": {},
   "outputs": [],
   "source": [
    "master_folder = \"../EMG_data_for_gestures-master\"\n",
    "cleaned_data_by_subject = {}"
   ]
  },
  {
   "cell_type": "code",
   "execution_count": 3,
   "id": "046ad31a-a821-4fe1-a4b3-ef48db3378c6",
   "metadata": {},
   "outputs": [
    {
     "name": "stdout",
     "output_type": "stream",
     "text": [
      "Loaded and cleaned data for 36 subjects.\n"
     ]
    }
   ],
   "source": [
    "# Loop through each subject's folder\n",
    "for subject_folder in sorted(os.listdir(master_folder)):\n",
    "    subject_path = os.path.join(master_folder, subject_folder)\n",
    "\n",
    "    if os.path.isdir(subject_path):  # Check if it's a directory\n",
    "        subject_number = int(subject_folder)  # Convert subject folder name to an integer\n",
    "        \n",
    "        trials = []\n",
    "        \n",
    "        for file_name in sorted(os.listdir(subject_path)):\n",
    "            if file_name.endswith('.txt'):\n",
    "                file_path = os.path.join(subject_path, file_name)\n",
    "                \n",
    "                # Load the .txt file with proper handling for mixed types and whitespace delimiter\n",
    "                df = pd.read_csv(file_path, delim_whitespace=True, dtype=str)  # Load as strings to avoid dtype issues\n",
    "\n",
    "                # Drop 'time' column\n",
    "                df.drop('time', inplace=True, axis=1)\n",
    "                \n",
    "                # Drop rows where 'class' column has NaNs or non-numeric values\n",
    "                df = df[df[\"class\"].notna() & df[\"class\"].str.isnumeric()]\n",
    "                \n",
    "                # Convert 'class' column to integer\n",
    "                df[\"class\"] = df[\"class\"].astype(int)\n",
    "                \n",
    "                # Keep only relevant classes (1 to 6) and drop others\n",
    "                df = df[df[\"class\"].isin([1, 2, 3, 4, 5, 6])]\n",
    "                \n",
    "                # Append the cleaned trial data to the list\n",
    "                trials.append(df)\n",
    "        \n",
    "        # Concatenate trials for the current subject\n",
    "        subject_data = pd.concat(trials, axis=0).reset_index(drop=True)\n",
    "        \n",
    "        # Store the cleaned data for the subject\n",
    "        cleaned_data_by_subject[subject_number] = subject_data\n",
    "\n",
    "print(f\"Loaded and cleaned data for {len(cleaned_data_by_subject)} subjects.\")"
   ]
  },
  {
   "cell_type": "code",
   "execution_count": 4,
   "id": "8c0a2eb3-c3cd-4f0a-b875-4a39fe727349",
   "metadata": {},
   "outputs": [
    {
     "name": "stdout",
     "output_type": "stream",
     "text": [
      "Segmented data for 36 subjects.\n"
     ]
    }
   ],
   "source": [
    "segmented_data_by_subject = {}\n",
    "\n",
    "# Loop through each subject's cleaned data\n",
    "for subject_number, subject_data in cleaned_data_by_subject.items():\n",
    "    segmented_trials = []  # Store segmented data for all trials of this subject\n",
    "\n",
    "    # Sort trials by 'trial' column if applicable\n",
    "    if 'trial' in subject_data.columns:\n",
    "        trials = subject_data.groupby('trial')\n",
    "    else:\n",
    "        trials = [(None, subject_data)]  # Single trial case\n",
    "\n",
    "    # Process each trial separately\n",
    "    for trial_id, trial_data in trials:\n",
    "        trial_segments = []  # Store all segments for this trial\n",
    "\n",
    "        # Identify gesture segments by detecting label changes\n",
    "        current_label = trial_data.iloc[0]['class']  # Start with the first label\n",
    "        start_index = 0  # Index for the beginning of the segment\n",
    "\n",
    "        for i in range(1, len(trial_data)):\n",
    "            if trial_data.iloc[i]['class'] != current_label:\n",
    "                # Extract the segment for the current label\n",
    "                segment = trial_data.iloc[start_index:i]\n",
    "                trial_segments.append(segment)\n",
    "\n",
    "                # Update the current label and start index\n",
    "                current_label = trial_data.iloc[i]['class']\n",
    "                start_index = i\n",
    "\n",
    "        # Capture the last segment\n",
    "        segment = trial_data.iloc[start_index:]\n",
    "        trial_segments.append(segment)\n",
    "\n",
    "        # Add the segmented data for this trial\n",
    "        segmented_trials.extend(trial_segments)\n",
    "\n",
    "    # Store segmented data for the subject\n",
    "    segmented_data_by_subject[subject_number] = segmented_trials\n",
    "\n",
    "print(f\"Segmented data for {len(segmented_data_by_subject)} subjects.\")"
   ]
  },
  {
   "cell_type": "markdown",
   "id": "1abe93e4-6a9e-4c8e-ad48-eb9df15b3c09",
   "metadata": {},
   "source": [
    "# Sliding Window - 1st CNN\n",
    "## New iteration"
   ]
  },
  {
   "cell_type": "code",
   "execution_count": 5,
   "id": "7f7dc358-4ed8-4043-8714-2d70f212a507",
   "metadata": {},
   "outputs": [],
   "source": [
    "import numpy as np\n",
    "from scipy.stats import mode"
   ]
  },
  {
   "cell_type": "code",
   "execution_count": 6,
   "id": "bf64039b-745f-48d2-afe0-f611c70c61de",
   "metadata": {},
   "outputs": [],
   "source": [
    "def extract_sliding_windows(segmented_data, window_size, stride):\n",
    "    \"\"\"\n",
    "    Extracts sliding windows from segmented data.\n",
    "\n",
    "    Args:\n",
    "        segmented_data (dict): Segmented data by subject.\n",
    "        window_size (int): Number of samples in each window.\n",
    "        stride (int): Step size between consecutive windows.\n",
    "\n",
    "    Returns:\n",
    "        list: A list of tuples where each tuple is (window_data, window_label).\n",
    "    \"\"\"\n",
    "    sliding_windows = []\n",
    "\n",
    "    for subject, trials in segmented_data.items():\n",
    "        # print(f\"Processing Subject {subject}...\")\n",
    "        \n",
    "        for segment in trials:\n",
    "            segment_label = segment['class'].iloc[0]  # The class label for the entire segment\n",
    "            segment_data = segment.drop(columns=['class']).values  # Drop the label column\n",
    "            \n",
    "            # Generate windows from this segment\n",
    "            for start_idx in range(0, len(segment_data) - window_size + 1, stride):\n",
    "                window = segment_data[start_idx:start_idx + window_size]\n",
    "                sliding_windows.append((window, segment_label))\n",
    "    \n",
    "    print(f\"Extracted {len(sliding_windows)} windows.\")\n",
    "    return sliding_windows"
   ]
  },
  {
   "cell_type": "code",
   "execution_count": 7,
   "id": "db6443aa-9969-4027-91a5-ec7fdb5b53bc",
   "metadata": {},
   "outputs": [
    {
     "name": "stdout",
     "output_type": "stream",
     "text": [
      "Extracted 11105 windows.\n",
      "Total sliding windows: 11105\n",
      "Window shape: (500, 8), Label: 1\n"
     ]
    }
   ],
   "source": [
    "# Parameters for sliding windows\n",
    "window_size = 500  # e.g., 100 samples per window\n",
    "stride = 100        # e.g., 50-sample step size\n",
    "\n",
    "# Extract sliding windows from segmented data\n",
    "sliding_windows = extract_sliding_windows(segmented_data_by_subject, window_size, stride)\n",
    "\n",
    "# Inspect the number of windows\n",
    "print(f\"Total sliding windows: {len(sliding_windows)}\")\n",
    "\n",
    "# Example: Shape of one window and its label\n",
    "example_window, example_label = sliding_windows[0]\n",
    "print(f\"Window shape: {example_window.shape}, Label: {example_label}\")"
   ]
  },
  {
   "cell_type": "code",
   "execution_count": 8,
   "id": "f47d5e97-1329-495f-a5a0-9fcd37a8b4b8",
   "metadata": {},
   "outputs": [
    {
     "name": "stdout",
     "output_type": "stream",
     "text": [
      "Training set: (7773, 500, 8), Validation set: (1666, 500, 8), Test set: (1666, 500, 8)\n"
     ]
    }
   ],
   "source": [
    "from sklearn.model_selection import train_test_split\n",
    "\n",
    "# Extract data and labels from sliding windows\n",
    "X = np.array([window for window, _ in sliding_windows])  # Shape: (num_windows, window_size, num_channels)\n",
    "y = np.array([label for _, label in sliding_windows])   # Shape: (num_windows,)\n",
    "\n",
    "# Split into training (70%), validation (15%), and test (15%)\n",
    "X_train, X_temp, y_train, y_temp = train_test_split(X, y, test_size=0.3, stratify=y, random_state=42)\n",
    "X_val, X_test, y_val, y_test = train_test_split(X_temp, y_temp, test_size=0.5, stratify=y_temp, random_state=42)\n",
    "\n",
    "print(f\"Training set: {X_train.shape}, Validation set: {X_val.shape}, Test set: {X_test.shape}\")"
   ]
  },
  {
   "cell_type": "code",
   "execution_count": 9,
   "id": "664af7e6-fe99-4134-aa0b-10a5abb3e688",
   "metadata": {},
   "outputs": [],
   "source": [
    "# Convert training and testing data to float\n",
    "X_train = X_train.astype(float)\n",
    "X_val = X_val.astype(float)\n",
    "X_test = X_test.astype(float)"
   ]
  },
  {
   "cell_type": "code",
   "execution_count": 10,
   "id": "0c89204a-73f2-4388-baa7-894b7c62f848",
   "metadata": {},
   "outputs": [
    {
     "name": "stdout",
     "output_type": "stream",
     "text": [
      "Class labels have been zero-indexed.\n"
     ]
    }
   ],
   "source": [
    "# Zero-index the class labels by subtracting 1\n",
    "y_train -= 1\n",
    "y_val -= 1\n",
    "y_test -= 1\n",
    "\n",
    "print(\"Class labels have been zero-indexed.\")"
   ]
  },
  {
   "cell_type": "code",
   "execution_count": 11,
   "id": "e1b7d15d-8f97-4f60-84c7-10314fa11f25",
   "metadata": {},
   "outputs": [
    {
     "name": "stdout",
     "output_type": "stream",
     "text": [
      "Data standardized.\n"
     ]
    }
   ],
   "source": [
    "# Standardize features across the entire training set (per channel)\n",
    "mean = X_train.mean(axis=(0, 1))  # Mean for each channel\n",
    "std = X_train.std(axis=(0, 1))    # Std for each channel\n",
    "\n",
    "# Apply standardization\n",
    "X_train = (X_train - mean) / std\n",
    "X_val = (X_val - mean) / std\n",
    "X_test = (X_test - mean) / std\n",
    "\n",
    "print(\"Data standardized.\")"
   ]
  },
  {
   "cell_type": "code",
   "execution_count": 12,
   "id": "436b52a9-70c2-4ad9-9fb7-1cc468a950d2",
   "metadata": {},
   "outputs": [
    {
     "name": "stdout",
     "output_type": "stream",
     "text": [
      "Labels converted to one-hot encoding.\n"
     ]
    }
   ],
   "source": [
    "from tensorflow.keras.utils import to_categorical\n",
    "\n",
    "# Convert labels to one-hot encoding\n",
    "num_classes = len(np.unique(y))\n",
    "y_train = to_categorical(y_train, num_classes=num_classes)\n",
    "y_val = to_categorical(y_val, num_classes=num_classes)\n",
    "y_test = to_categorical(y_test, num_classes=num_classes)\n",
    "\n",
    "print(\"Labels converted to one-hot encoding.\")"
   ]
  },
  {
   "cell_type": "code",
   "execution_count": 13,
   "id": "055d706f-8f82-411f-972a-728705389c20",
   "metadata": {},
   "outputs": [
    {
     "name": "stdout",
     "output_type": "stream",
     "text": [
      "Model: \"sequential\"\n",
      "_________________________________________________________________\n",
      " Layer (type)                Output Shape              Param #   \n",
      "=================================================================\n",
      " conv1d (Conv1D)             (None, 498, 32)           800       \n",
      "                                                                 \n",
      " max_pooling1d (MaxPooling1  (None, 249, 32)           0         \n",
      " D)                                                              \n",
      "                                                                 \n",
      " dropout (Dropout)           (None, 249, 32)           0         \n",
      "                                                                 \n",
      " conv1d_1 (Conv1D)           (None, 247, 64)           6208      \n",
      "                                                                 \n",
      " max_pooling1d_1 (MaxPoolin  (None, 123, 64)           0         \n",
      " g1D)                                                            \n",
      "                                                                 \n",
      " dropout_1 (Dropout)         (None, 123, 64)           0         \n",
      "                                                                 \n",
      " flatten (Flatten)           (None, 7872)              0         \n",
      "                                                                 \n",
      " dense (Dense)               (None, 64)                503872    \n",
      "                                                                 \n",
      " dropout_2 (Dropout)         (None, 64)                0         \n",
      "                                                                 \n",
      " dense_1 (Dense)             (None, 6)                 390       \n",
      "                                                                 \n",
      "=================================================================\n",
      "Total params: 511270 (1.95 MB)\n",
      "Trainable params: 511270 (1.95 MB)\n",
      "Non-trainable params: 0 (0.00 Byte)\n",
      "_________________________________________________________________\n"
     ]
    }
   ],
   "source": [
    "from tensorflow.keras.regularizers import l2\n",
    "from tensorflow.keras.models import Sequential\n",
    "from tensorflow.keras.layers import Conv1D, MaxPooling1D, Flatten, Dense, Dropout\n",
    "from tensorflow.keras.optimizers import Adam\n",
    "\n",
    "# Define model parameters\n",
    "input_shape = (X_train.shape[1], X_train.shape[2])  # (window_size, num_channels)\n",
    "num_classes = y_train.shape[1]  # Number of gesture classes\n",
    "regularization_strength = 0.001  # Strength of L2 regularization (adjust if needed)\n",
    "\n",
    "# Build the CNN model with L2 regularization\n",
    "model = Sequential([\n",
    "    # First convolutional layer\n",
    "    Conv1D(filters=32, kernel_size=3, activation='relu', input_shape=input_shape,\n",
    "           kernel_regularizer=l2(regularization_strength)),\n",
    "    MaxPooling1D(pool_size=2),\n",
    "    Dropout(0.2),\n",
    "    \n",
    "    # Second convolutional layer\n",
    "    Conv1D(filters=64, kernel_size=3, activation='relu',\n",
    "           kernel_regularizer=l2(regularization_strength)),\n",
    "    MaxPooling1D(pool_size=2),\n",
    "    Dropout(0.2),\n",
    "    \n",
    "    # Flatten and fully connected layers\n",
    "    Flatten(),\n",
    "    Dense(64, activation='relu', kernel_regularizer=l2(regularization_strength)),\n",
    "    Dropout(0.3),\n",
    "    Dense(num_classes, activation='softmax', kernel_regularizer=l2(regularization_strength))  # Output layer\n",
    "])\n",
    "\n",
    "# Compile the model\n",
    "model.compile(optimizer=Adam(learning_rate=0.001),\n",
    "              loss='categorical_crossentropy',\n",
    "              metrics=['accuracy'])\n",
    "\n",
    "# Display the model summary\n",
    "model.summary()"
   ]
  },
  {
   "cell_type": "code",
   "execution_count": 14,
   "id": "12fbe18e-0f9d-4d68-8b7c-dffb480de977",
   "metadata": {},
   "outputs": [
    {
     "name": "stdout",
     "output_type": "stream",
     "text": [
      "Epoch 1/100\n",
      "243/243 [==============================] - 3s 9ms/step - loss: 1.3849 - accuracy: 0.4701 - val_loss: 0.9075 - val_accuracy: 0.6717\n",
      "Epoch 2/100\n",
      "243/243 [==============================] - 2s 8ms/step - loss: 0.9603 - accuracy: 0.6350 - val_loss: 0.7044 - val_accuracy: 0.8001\n",
      "Epoch 3/100\n",
      "243/243 [==============================] - 2s 9ms/step - loss: 0.7506 - accuracy: 0.7516 - val_loss: 0.5850 - val_accuracy: 0.8187\n",
      "Epoch 4/100\n",
      "243/243 [==============================] - 2s 9ms/step - loss: 0.6501 - accuracy: 0.7935 - val_loss: 0.5319 - val_accuracy: 0.8367\n",
      "Epoch 5/100\n",
      "243/243 [==============================] - 2s 8ms/step - loss: 0.6021 - accuracy: 0.8147 - val_loss: 0.5013 - val_accuracy: 0.8571\n",
      "Epoch 6/100\n",
      "243/243 [==============================] - 2s 8ms/step - loss: 0.5542 - accuracy: 0.8356 - val_loss: 0.4913 - val_accuracy: 0.8553\n",
      "Epoch 7/100\n",
      "243/243 [==============================] - 2s 8ms/step - loss: 0.5239 - accuracy: 0.8524 - val_loss: 0.4820 - val_accuracy: 0.8667\n",
      "Epoch 8/100\n",
      "243/243 [==============================] - 2s 8ms/step - loss: 0.4985 - accuracy: 0.8677 - val_loss: 0.4851 - val_accuracy: 0.8625\n",
      "Epoch 9/100\n",
      "243/243 [==============================] - 2s 8ms/step - loss: 0.4729 - accuracy: 0.8747 - val_loss: 0.4861 - val_accuracy: 0.8643\n",
      "Epoch 10/100\n",
      "243/243 [==============================] - 2s 8ms/step - loss: 0.4508 - accuracy: 0.8832 - val_loss: 0.4587 - val_accuracy: 0.8782\n",
      "Epoch 11/100\n",
      "243/243 [==============================] - 2s 8ms/step - loss: 0.4483 - accuracy: 0.8832 - val_loss: 0.4611 - val_accuracy: 0.8764\n",
      "Epoch 12/100\n",
      "243/243 [==============================] - 2s 8ms/step - loss: 0.4310 - accuracy: 0.8932 - val_loss: 0.4627 - val_accuracy: 0.8860\n",
      "Epoch 13/100\n",
      "243/243 [==============================] - 2s 8ms/step - loss: 0.4202 - accuracy: 0.8961 - val_loss: 0.4578 - val_accuracy: 0.8788\n",
      "Epoch 14/100\n",
      "243/243 [==============================] - 2s 8ms/step - loss: 0.4059 - accuracy: 0.9006 - val_loss: 0.4307 - val_accuracy: 0.8866\n",
      "Epoch 15/100\n",
      "243/243 [==============================] - 2s 8ms/step - loss: 0.4089 - accuracy: 0.8989 - val_loss: 0.4530 - val_accuracy: 0.8836\n",
      "Epoch 16/100\n",
      "243/243 [==============================] - 2s 9ms/step - loss: 0.4083 - accuracy: 0.9007 - val_loss: 0.4367 - val_accuracy: 0.8944\n",
      "Epoch 17/100\n",
      "243/243 [==============================] - 2s 9ms/step - loss: 0.3829 - accuracy: 0.9099 - val_loss: 0.4531 - val_accuracy: 0.8854\n",
      "Epoch 18/100\n",
      "243/243 [==============================] - 2s 8ms/step - loss: 0.3857 - accuracy: 0.9096 - val_loss: 0.4335 - val_accuracy: 0.8986\n",
      "Epoch 19/100\n",
      "243/243 [==============================] - 2s 8ms/step - loss: 0.3747 - accuracy: 0.9161 - val_loss: 0.4267 - val_accuracy: 0.9004\n",
      "Epoch 20/100\n",
      "243/243 [==============================] - 2s 8ms/step - loss: 0.3804 - accuracy: 0.9111 - val_loss: 0.4385 - val_accuracy: 0.8944\n",
      "Epoch 21/100\n",
      "243/243 [==============================] - 2s 8ms/step - loss: 0.3841 - accuracy: 0.9120 - val_loss: 0.4336 - val_accuracy: 0.9004\n",
      "Epoch 22/100\n",
      "243/243 [==============================] - 2s 8ms/step - loss: 0.3869 - accuracy: 0.9114 - val_loss: 0.4261 - val_accuracy: 0.9022\n",
      "Epoch 23/100\n",
      "243/243 [==============================] - 2s 8ms/step - loss: 0.3545 - accuracy: 0.9217 - val_loss: 0.4130 - val_accuracy: 0.9028\n",
      "Epoch 24/100\n",
      "243/243 [==============================] - 2s 8ms/step - loss: 0.3666 - accuracy: 0.9153 - val_loss: 0.4180 - val_accuracy: 0.8986\n",
      "Epoch 25/100\n",
      "243/243 [==============================] - 2s 8ms/step - loss: 0.3563 - accuracy: 0.9231 - val_loss: 0.4150 - val_accuracy: 0.9064\n",
      "Epoch 26/100\n",
      "243/243 [==============================] - 2s 8ms/step - loss: 0.3562 - accuracy: 0.9201 - val_loss: 0.4022 - val_accuracy: 0.9052\n",
      "Epoch 27/100\n",
      "243/243 [==============================] - 2s 8ms/step - loss: 0.3502 - accuracy: 0.9220 - val_loss: 0.4047 - val_accuracy: 0.9100\n",
      "Epoch 28/100\n",
      "243/243 [==============================] - 2s 8ms/step - loss: 0.3452 - accuracy: 0.9208 - val_loss: 0.4288 - val_accuracy: 0.9064\n",
      "Epoch 29/100\n",
      "243/243 [==============================] - 2s 8ms/step - loss: 0.3484 - accuracy: 0.9211 - val_loss: 0.3885 - val_accuracy: 0.9112\n",
      "Epoch 30/100\n",
      "243/243 [==============================] - 2s 8ms/step - loss: 0.3497 - accuracy: 0.9232 - val_loss: 0.3900 - val_accuracy: 0.9124\n",
      "Epoch 31/100\n",
      "243/243 [==============================] - 2s 8ms/step - loss: 0.3502 - accuracy: 0.9238 - val_loss: 0.4683 - val_accuracy: 0.8974\n",
      "Epoch 32/100\n",
      "243/243 [==============================] - 2s 8ms/step - loss: 0.3442 - accuracy: 0.9246 - val_loss: 0.3885 - val_accuracy: 0.9160\n",
      "Epoch 33/100\n",
      "243/243 [==============================] - 2s 8ms/step - loss: 0.3402 - accuracy: 0.9241 - val_loss: 0.3844 - val_accuracy: 0.9154\n",
      "Epoch 34/100\n",
      "243/243 [==============================] - 2s 8ms/step - loss: 0.3479 - accuracy: 0.9229 - val_loss: 0.3836 - val_accuracy: 0.9118\n",
      "Epoch 35/100\n",
      "243/243 [==============================] - 2s 8ms/step - loss: 0.3225 - accuracy: 0.9353 - val_loss: 0.4103 - val_accuracy: 0.9010\n",
      "Epoch 36/100\n",
      "243/243 [==============================] - 2s 8ms/step - loss: 0.3381 - accuracy: 0.9310 - val_loss: 0.3752 - val_accuracy: 0.9208\n",
      "Epoch 37/100\n",
      "243/243 [==============================] - 2s 9ms/step - loss: 0.3295 - accuracy: 0.9299 - val_loss: 0.3773 - val_accuracy: 0.9190\n",
      "Epoch 38/100\n",
      "243/243 [==============================] - 2s 8ms/step - loss: 0.3231 - accuracy: 0.9335 - val_loss: 0.4096 - val_accuracy: 0.9142\n",
      "Epoch 39/100\n",
      "243/243 [==============================] - 2s 8ms/step - loss: 0.3332 - accuracy: 0.9268 - val_loss: 0.4097 - val_accuracy: 0.9004\n",
      "Epoch 40/100\n",
      "243/243 [==============================] - 2s 9ms/step - loss: 0.3339 - accuracy: 0.9292 - val_loss: 0.3672 - val_accuracy: 0.9166\n",
      "Epoch 41/100\n",
      "243/243 [==============================] - 2s 8ms/step - loss: 0.3201 - accuracy: 0.9348 - val_loss: 0.3930 - val_accuracy: 0.9088\n",
      "Epoch 42/100\n",
      "243/243 [==============================] - 2s 8ms/step - loss: 0.3161 - accuracy: 0.9349 - val_loss: 0.4141 - val_accuracy: 0.8956\n",
      "Epoch 43/100\n",
      "243/243 [==============================] - 2s 8ms/step - loss: 0.3229 - accuracy: 0.9334 - val_loss: 0.4172 - val_accuracy: 0.9088\n",
      "Epoch 44/100\n",
      "243/243 [==============================] - 2s 8ms/step - loss: 0.3135 - accuracy: 0.9357 - val_loss: 0.4001 - val_accuracy: 0.9076\n",
      "Epoch 45/100\n",
      "243/243 [==============================] - 2s 8ms/step - loss: 0.3257 - accuracy: 0.9309 - val_loss: 0.3549 - val_accuracy: 0.9286\n",
      "Epoch 46/100\n",
      "243/243 [==============================] - 2s 9ms/step - loss: 0.3029 - accuracy: 0.9402 - val_loss: 0.3907 - val_accuracy: 0.9136\n",
      "Epoch 47/100\n",
      "243/243 [==============================] - 2s 8ms/step - loss: 0.3199 - accuracy: 0.9346 - val_loss: 0.3793 - val_accuracy: 0.9178\n",
      "Epoch 48/100\n",
      "243/243 [==============================] - 2s 8ms/step - loss: 0.3161 - accuracy: 0.9353 - val_loss: 0.3671 - val_accuracy: 0.9136\n",
      "Epoch 49/100\n",
      "243/243 [==============================] - 2s 9ms/step - loss: 0.3217 - accuracy: 0.9371 - val_loss: 0.3621 - val_accuracy: 0.9136\n",
      "Epoch 50/100\n",
      "243/243 [==============================] - 2s 8ms/step - loss: 0.3124 - accuracy: 0.9376 - val_loss: 0.3475 - val_accuracy: 0.9220\n",
      "Epoch 51/100\n",
      "243/243 [==============================] - 2s 9ms/step - loss: 0.3134 - accuracy: 0.9367 - val_loss: 0.3451 - val_accuracy: 0.9214\n",
      "Epoch 52/100\n",
      "243/243 [==============================] - 2s 9ms/step - loss: 0.3022 - accuracy: 0.9439 - val_loss: 0.3644 - val_accuracy: 0.9208\n",
      "Epoch 53/100\n",
      "243/243 [==============================] - 2s 8ms/step - loss: 0.3093 - accuracy: 0.9400 - val_loss: 0.3670 - val_accuracy: 0.9208\n",
      "Epoch 54/100\n",
      "243/243 [==============================] - 2s 8ms/step - loss: 0.3071 - accuracy: 0.9385 - val_loss: 0.3407 - val_accuracy: 0.9256\n",
      "Epoch 55/100\n",
      "243/243 [==============================] - 2s 8ms/step - loss: 0.3056 - accuracy: 0.9415 - val_loss: 0.3528 - val_accuracy: 0.9286\n",
      "Epoch 56/100\n",
      "243/243 [==============================] - 2s 8ms/step - loss: 0.2964 - accuracy: 0.9440 - val_loss: 0.3744 - val_accuracy: 0.9130\n",
      "Epoch 57/100\n",
      "243/243 [==============================] - 2s 8ms/step - loss: 0.3005 - accuracy: 0.9406 - val_loss: 0.3552 - val_accuracy: 0.9262\n",
      "Epoch 58/100\n",
      "243/243 [==============================] - 2s 8ms/step - loss: 0.2964 - accuracy: 0.9419 - val_loss: 0.3493 - val_accuracy: 0.9262\n",
      "Epoch 59/100\n",
      "243/243 [==============================] - 2s 8ms/step - loss: 0.3106 - accuracy: 0.9372 - val_loss: 0.3568 - val_accuracy: 0.9232\n",
      "Epoch 60/100\n",
      "243/243 [==============================] - 2s 8ms/step - loss: 0.2901 - accuracy: 0.9455 - val_loss: 0.3301 - val_accuracy: 0.9364\n",
      "Epoch 61/100\n",
      "243/243 [==============================] - 2s 8ms/step - loss: 0.3019 - accuracy: 0.9417 - val_loss: 0.3302 - val_accuracy: 0.9370\n",
      "Epoch 62/100\n",
      "243/243 [==============================] - 2s 8ms/step - loss: 0.3163 - accuracy: 0.9354 - val_loss: 0.3780 - val_accuracy: 0.9172\n",
      "Epoch 63/100\n",
      "243/243 [==============================] - 2s 9ms/step - loss: 0.2880 - accuracy: 0.9471 - val_loss: 0.3368 - val_accuracy: 0.9292\n",
      "Epoch 64/100\n",
      "243/243 [==============================] - 2s 8ms/step - loss: 0.2924 - accuracy: 0.9475 - val_loss: 0.3759 - val_accuracy: 0.9154\n",
      "Epoch 65/100\n",
      "243/243 [==============================] - 2s 8ms/step - loss: 0.3149 - accuracy: 0.9348 - val_loss: 0.3577 - val_accuracy: 0.9220\n",
      "Epoch 66/100\n",
      "243/243 [==============================] - 2s 8ms/step - loss: 0.3060 - accuracy: 0.9391 - val_loss: 0.3548 - val_accuracy: 0.9220\n",
      "Epoch 67/100\n",
      "243/243 [==============================] - 2s 8ms/step - loss: 0.2935 - accuracy: 0.9453 - val_loss: 0.3461 - val_accuracy: 0.9214\n",
      "Epoch 68/100\n",
      "243/243 [==============================] - 2s 8ms/step - loss: 0.2895 - accuracy: 0.9478 - val_loss: 0.3459 - val_accuracy: 0.9262\n",
      "Epoch 69/100\n",
      "243/243 [==============================] - 2s 8ms/step - loss: 0.2883 - accuracy: 0.9455 - val_loss: 0.3339 - val_accuracy: 0.9310\n",
      "Epoch 70/100\n",
      "243/243 [==============================] - 2s 8ms/step - loss: 0.2871 - accuracy: 0.9462 - val_loss: 0.3216 - val_accuracy: 0.9394\n",
      "Epoch 71/100\n",
      "243/243 [==============================] - 2s 8ms/step - loss: 0.2998 - accuracy: 0.9403 - val_loss: 0.3463 - val_accuracy: 0.9292\n",
      "Epoch 72/100\n",
      "243/243 [==============================] - 2s 8ms/step - loss: 0.2984 - accuracy: 0.9428 - val_loss: 0.3596 - val_accuracy: 0.9238\n",
      "Epoch 73/100\n",
      "243/243 [==============================] - 2s 8ms/step - loss: 0.2951 - accuracy: 0.9478 - val_loss: 0.3301 - val_accuracy: 0.9442\n",
      "Epoch 74/100\n",
      "243/243 [==============================] - 2s 8ms/step - loss: 0.2899 - accuracy: 0.9455 - val_loss: 0.3351 - val_accuracy: 0.9352\n",
      "Epoch 75/100\n",
      "243/243 [==============================] - 2s 8ms/step - loss: 0.2989 - accuracy: 0.9449 - val_loss: 0.3235 - val_accuracy: 0.9370\n",
      "Epoch 76/100\n",
      "243/243 [==============================] - 2s 8ms/step - loss: 0.2778 - accuracy: 0.9527 - val_loss: 0.3507 - val_accuracy: 0.9298\n",
      "Epoch 77/100\n",
      "243/243 [==============================] - 2s 8ms/step - loss: 0.2955 - accuracy: 0.9447 - val_loss: 0.3304 - val_accuracy: 0.9316\n",
      "Epoch 78/100\n",
      "243/243 [==============================] - 2s 8ms/step - loss: 0.2897 - accuracy: 0.9465 - val_loss: 0.3700 - val_accuracy: 0.9226\n",
      "Epoch 79/100\n",
      "243/243 [==============================] - 2s 8ms/step - loss: 0.3032 - accuracy: 0.9439 - val_loss: 0.3108 - val_accuracy: 0.9436\n",
      "Epoch 80/100\n",
      "243/243 [==============================] - 2s 8ms/step - loss: 0.3098 - accuracy: 0.9372 - val_loss: 0.3280 - val_accuracy: 0.9364\n",
      "Epoch 81/100\n",
      "243/243 [==============================] - 2s 8ms/step - loss: 0.2927 - accuracy: 0.9489 - val_loss: 0.3450 - val_accuracy: 0.9238\n",
      "Epoch 82/100\n",
      "243/243 [==============================] - 2s 8ms/step - loss: 0.2912 - accuracy: 0.9448 - val_loss: 0.3216 - val_accuracy: 0.9364\n",
      "Epoch 83/100\n",
      "243/243 [==============================] - 2s 9ms/step - loss: 0.2846 - accuracy: 0.9485 - val_loss: 0.3252 - val_accuracy: 0.9340\n",
      "Epoch 84/100\n",
      "243/243 [==============================] - 2s 8ms/step - loss: 0.2728 - accuracy: 0.9530 - val_loss: 0.3105 - val_accuracy: 0.9400\n",
      "Epoch 85/100\n",
      "243/243 [==============================] - 2s 8ms/step - loss: 0.2875 - accuracy: 0.9470 - val_loss: 0.3394 - val_accuracy: 0.9334\n",
      "Epoch 86/100\n",
      "243/243 [==============================] - 2s 8ms/step - loss: 0.2887 - accuracy: 0.9470 - val_loss: 0.3335 - val_accuracy: 0.9364\n",
      "Epoch 87/100\n",
      "243/243 [==============================] - 2s 8ms/step - loss: 0.2775 - accuracy: 0.9514 - val_loss: 0.3211 - val_accuracy: 0.9340\n",
      "Epoch 88/100\n",
      "243/243 [==============================] - 2s 8ms/step - loss: 0.2850 - accuracy: 0.9458 - val_loss: 0.3459 - val_accuracy: 0.9280\n",
      "Epoch 89/100\n",
      "243/243 [==============================] - 2s 8ms/step - loss: 0.2831 - accuracy: 0.9503 - val_loss: 0.3175 - val_accuracy: 0.9310\n",
      "Epoch 90/100\n",
      "243/243 [==============================] - 2s 9ms/step - loss: 0.2707 - accuracy: 0.9532 - val_loss: 0.3215 - val_accuracy: 0.9388\n",
      "Epoch 91/100\n",
      "243/243 [==============================] - 2s 8ms/step - loss: 0.2969 - accuracy: 0.9430 - val_loss: 0.3295 - val_accuracy: 0.9364\n",
      "Epoch 92/100\n",
      "243/243 [==============================] - 2s 8ms/step - loss: 0.2972 - accuracy: 0.9462 - val_loss: 0.3587 - val_accuracy: 0.9202\n",
      "Epoch 93/100\n",
      "243/243 [==============================] - 2s 8ms/step - loss: 0.2884 - accuracy: 0.9467 - val_loss: 0.3313 - val_accuracy: 0.9298\n",
      "Epoch 94/100\n",
      "243/243 [==============================] - 2s 8ms/step - loss: 0.2833 - accuracy: 0.9475 - val_loss: 0.3190 - val_accuracy: 0.9328\n",
      "Epoch 95/100\n",
      "243/243 [==============================] - 2s 8ms/step - loss: 0.2790 - accuracy: 0.9487 - val_loss: 0.3210 - val_accuracy: 0.9358\n",
      "Epoch 96/100\n",
      "243/243 [==============================] - 2s 8ms/step - loss: 0.2807 - accuracy: 0.9498 - val_loss: 0.3261 - val_accuracy: 0.9328\n",
      "Epoch 97/100\n",
      "243/243 [==============================] - 2s 8ms/step - loss: 0.2826 - accuracy: 0.9487 - val_loss: 0.3502 - val_accuracy: 0.9292\n",
      "Epoch 98/100\n",
      "243/243 [==============================] - 2s 8ms/step - loss: 0.2982 - accuracy: 0.9440 - val_loss: 0.3795 - val_accuracy: 0.9196\n",
      "Epoch 99/100\n",
      "243/243 [==============================] - 2s 8ms/step - loss: 0.2828 - accuracy: 0.9470 - val_loss: 0.3421 - val_accuracy: 0.9292\n",
      "Epoch 100/100\n",
      "243/243 [==============================] - 2s 8ms/step - loss: 0.2876 - accuracy: 0.9492 - val_loss: 0.3333 - val_accuracy: 0.9322\n",
      "Test Loss: 0.3396, Test Accuracy: 0.9340\n"
     ]
    }
   ],
   "source": [
    "history = model.fit(\n",
    "    X_train, y_train,\n",
    "    validation_data=(X_val, y_val),\n",
    "    epochs=100,  # Number of epochs\n",
    "    batch_size=32,  # Mini-batch size\n",
    "    verbose=1\n",
    ")\n",
    "\n",
    "# Evaluate the model on the test set\n",
    "test_loss, test_accuracy = model.evaluate(X_test, y_test, verbose=0)\n",
    "print(f\"Test Loss: {test_loss:.4f}, Test Accuracy: {test_accuracy:.4f}\")"
   ]
  },
  {
   "cell_type": "code",
   "execution_count": 15,
   "id": "e81fa56d-d7ce-4291-91ea-045136b4ebbd",
   "metadata": {},
   "outputs": [
    {
     "data": {
      "image/png": "[encoded data removed]",
      "text/plain": [
       "<Figure size 1200x500 with 2 Axes>"
      ]
     },
     "metadata": {},
     "output_type": "display_data"
    }
   ],
   "source": [
    "import matplotlib.pyplot as plt\n",
    "\n",
    "plt.figure(figsize=(12, 5))\n",
    "\n",
    "# Accuracy\n",
    "plt.subplot(1, 2, 1)\n",
    "plt.plot(history.history['accuracy'], label='Train Accuracy')\n",
    "plt.plot(history.history['val_accuracy'], label='Validation Accuracy')\n",
    "plt.title('Model Accuracy')\n",
    "plt.xlabel('Epochs')\n",
    "plt.ylabel('Accuracy')\n",
    "plt.legend()\n",
    "\n",
    "# Loss\n",
    "plt.subplot(1, 2, 2)\n",
    "plt.plot(history.history['loss'], label='Train Loss')\n",
    "plt.plot(history.history['val_loss'], label='Validation Loss')\n",
    "plt.title('Model Loss')\n",
    "plt.xlabel('Epochs')\n",
    "plt.ylabel('Loss')\n",
    "plt.legend()\n",
    "\n",
    "plt.show()"
   ]
  },
  {
   "cell_type": "code",
   "execution_count": 16,
   "id": "130c8b32-b057-48f9-bd11-0b1b3c70e0a4",
   "metadata": {},
   "outputs": [
    {
     "name": "stdout",
     "output_type": "stream",
     "text": [
      "Model Performance:\n",
      "Test Loss: 0.3396\n",
      "Test Accuracy: 0.9340\n",
      "Validation Loss: 0.3333\n",
      "Validation Accuracy: 0.9322\n"
     ]
    }
   ],
   "source": [
    "# Evaluate the model on the test set\n",
    "test_loss, test_accuracy = model.evaluate(X_test, y_test, verbose=0)\n",
    "\n",
    "# Print performance metrics\n",
    "print(\"Model Performance:\")\n",
    "print(f\"Test Loss: {test_loss:.4f}\")\n",
    "print(f\"Test Accuracy: {test_accuracy:.4f}\")\n",
    "\n",
    "# Optional: Evaluate on validation set for comparison\n",
    "val_loss, val_accuracy = model.evaluate(X_val, y_val, verbose=0)\n",
    "print(f\"Validation Loss: {val_loss:.4f}\")\n",
    "print(f\"Validation Accuracy: {val_accuracy:.4f}\")"
   ]
  }
 ],
 "metadata": {
  "kernelspec": {
   "display_name": "Python 3 (ipykernel)",
   "language": "python",
   "name": "python3"
  },
  "language_info": {
   "codemirror_mode": {
    "name": "ipython",
    "version": 3
   },
   "file_extension": ".py",
   "mimetype": "text/x-python",
   "name": "python",
   "nbconvert_exporter": "python",
   "pygments_lexer": "ipython3",
   "version": "3.10.15"
  }
 },
 "nbformat": 4,
 "nbformat_minor": 5
}
