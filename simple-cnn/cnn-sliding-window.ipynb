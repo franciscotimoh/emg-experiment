{
 "cells": [
  {
   "cell_type": "markdown",
   "id": "61a08853-15d5-477a-8df5-3183ce5c379c",
   "metadata": {},
   "source": [
    "# Data Loading"
   ]
  },
  {
   "cell_type": "code",
   "execution_count": 1,
   "id": "55768972-5a12-4c6e-b1fb-3478c4805709",
   "metadata": {},
   "outputs": [],
   "source": [
    "import os\n",
    "import pandas as pd"
   ]
  },
  {
   "cell_type": "code",
   "execution_count": 2,
   "id": "a7016b4e-a005-4ce8-bc79-fe0808df2ce4",
   "metadata": {},
   "outputs": [],
   "source": [
    "master_folder = \"../EMG_data_for_gestures-master\"\n",
    "cleaned_data_by_subject = {}"
   ]
  },
  {
   "cell_type": "code",
   "execution_count": 3,
   "id": "046ad31a-a821-4fe1-a4b3-ef48db3378c6",
   "metadata": {},
   "outputs": [
    {
     "name": "stdout",
     "output_type": "stream",
     "text": [
      "Loaded and cleaned data for 36 subjects.\n"
     ]
    }
   ],
   "source": [
    "# Loop through each subject's folder\n",
    "for subject_folder in sorted(os.listdir(master_folder)):\n",
    "    subject_path = os.path.join(master_folder, subject_folder)\n",
    "\n",
    "    if os.path.isdir(subject_path):  # Check if it's a directory\n",
    "        subject_number = int(subject_folder)  # Convert subject folder name to an integer\n",
    "        \n",
    "        trials = []\n",
    "        \n",
    "        for file_name in sorted(os.listdir(subject_path)):\n",
    "            if file_name.endswith('.txt'):\n",
    "                file_path = os.path.join(subject_path, file_name)\n",
    "                \n",
    "                # Load the .txt file with proper handling for mixed types and whitespace delimiter\n",
    "                df = pd.read_csv(file_path, delim_whitespace=True, dtype=str)  # Load as strings to avoid dtype issues\n",
    "\n",
    "                # Drop 'time' column\n",
    "                df.drop('time', inplace=True, axis=1)\n",
    "                \n",
    "                # Drop rows where 'class' column has NaNs or non-numeric values\n",
    "                df = df[df[\"class\"].notna() & df[\"class\"].str.isnumeric()]\n",
    "                \n",
    "                # Convert 'class' column to integer\n",
    "                df[\"class\"] = df[\"class\"].astype(int)\n",
    "                \n",
    "                # Keep only relevant classes (1 to 6) and drop others\n",
    "                df = df[df[\"class\"].isin([1, 2, 3, 4, 5, 6])]\n",
    "                \n",
    "                # Append the cleaned trial data to the list\n",
    "                trials.append(df)\n",
    "        \n",
    "        # Concatenate trials for the current subject\n",
    "        subject_data = pd.concat(trials, axis=0).reset_index(drop=True)\n",
    "        \n",
    "        # Store the cleaned data for the subject\n",
    "        cleaned_data_by_subject[subject_number] = subject_data\n",
    "\n",
    "print(f\"Loaded and cleaned data for {len(cleaned_data_by_subject)} subjects.\")"
   ]
  },
  {
   "cell_type": "code",
   "execution_count": 7,
   "id": "8c0a2eb3-c3cd-4f0a-b875-4a39fe727349",
   "metadata": {},
   "outputs": [
    {
     "name": "stdout",
     "output_type": "stream",
     "text": [
      "Segmented data for 36 subjects.\n"
     ]
    }
   ],
   "source": [
    "segmented_data_by_subject = {}\n",
    "\n",
    "# Loop through each subject's cleaned data\n",
    "for subject_number, subject_data in cleaned_data_by_subject.items():\n",
    "    segmented_trials = []  # Store segmented data for all trials of this subject\n",
    "\n",
    "    # Sort trials by 'trial' column if applicable\n",
    "    if 'trial' in subject_data.columns:\n",
    "        trials = subject_data.groupby('trial')\n",
    "    else:\n",
    "        trials = [(None, subject_data)]  # Single trial case\n",
    "\n",
    "    # Process each trial separately\n",
    "    for trial_id, trial_data in trials:\n",
    "        trial_segments = []  # Store all segments for this trial\n",
    "\n",
    "        # Identify gesture segments by detecting label changes\n",
    "        current_label = trial_data.iloc[0]['class']  # Start with the first label\n",
    "        start_index = 0  # Index for the beginning of the segment\n",
    "\n",
    "        for i in range(1, len(trial_data)):\n",
    "            if trial_data.iloc[i]['class'] != current_label:\n",
    "                # Extract the segment for the current label\n",
    "                segment = trial_data.iloc[start_index:i]\n",
    "                trial_segments.append(segment)\n",
    "\n",
    "                # Update the current label and start index\n",
    "                current_label = trial_data.iloc[i]['class']\n",
    "                start_index = i\n",
    "\n",
    "        # Capture the last segment\n",
    "        segment = trial_data.iloc[start_index:]\n",
    "        trial_segments.append(segment)\n",
    "\n",
    "        # Add the segmented data for this trial\n",
    "        segmented_trials.extend(trial_segments)\n",
    "\n",
    "    # Store segmented data for the subject\n",
    "    segmented_data_by_subject[subject_number] = segmented_trials\n",
    "\n",
    "print(f\"Segmented data for {len(segmented_data_by_subject)} subjects.\")"
   ]
  },
  {
   "cell_type": "markdown",
   "id": "1abe93e4-6a9e-4c8e-ad48-eb9df15b3c09",
   "metadata": {},
   "source": [
    "# Sliding Window - 1st CNN\n",
    "## New iteration"
   ]
  },
  {
   "cell_type": "code",
   "execution_count": 4,
   "id": "7f7dc358-4ed8-4043-8714-2d70f212a507",
   "metadata": {},
   "outputs": [],
   "source": [
    "import numpy as np\n",
    "from scipy.stats import mode"
   ]
  },
  {
   "cell_type": "code",
   "execution_count": 14,
   "id": "bf64039b-745f-48d2-afe0-f611c70c61de",
   "metadata": {},
   "outputs": [],
   "source": [
    "def extract_sliding_windows(segmented_data, window_size, stride):\n",
    "    \"\"\"\n",
    "    Extracts sliding windows from segmented data.\n",
    "\n",
    "    Args:\n",
    "        segmented_data (dict): Segmented data by subject.\n",
    "        window_size (int): Number of samples in each window.\n",
    "        stride (int): Step size between consecutive windows.\n",
    "\n",
    "    Returns:\n",
    "        list: A list of tuples where each tuple is (window_data, window_label).\n",
    "    \"\"\"\n",
    "    sliding_windows = []\n",
    "\n",
    "    for subject, trials in segmented_data.items():\n",
    "        # print(f\"Processing Subject {subject}...\")\n",
    "        \n",
    "        for segment in trials:\n",
    "            segment_label = segment['class'].iloc[0]  # The class label for the entire segment\n",
    "            segment_data = segment.drop(columns=['class']).values  # Drop the label column\n",
    "            \n",
    "            # Generate windows from this segment\n",
    "            for start_idx in range(0, len(segment_data) - window_size + 1, stride):\n",
    "                window = segment_data[start_idx:start_idx + window_size]\n",
    "                sliding_windows.append((window, segment_label))\n",
    "    \n",
    "    print(f\"Extracted {len(sliding_windows)} windows.\")\n",
    "    return sliding_windows"
   ]
  },
  {
   "cell_type": "code",
   "execution_count": 39,
   "id": "db6443aa-9969-4027-91a5-ec7fdb5b53bc",
   "metadata": {},
   "outputs": [
    {
     "name": "stdout",
     "output_type": "stream",
     "text": [
      "Extracted 11105 windows.\n",
      "Total sliding windows: 11105\n",
      "Window shape: (500, 8), Label: 1\n"
     ]
    }
   ],
   "source": [
    "# Parameters for sliding windows\n",
    "window_size = 500  # e.g., 100 samples per window\n",
    "stride = 100        # e.g., 50-sample step size\n",
    "\n",
    "# Extract sliding windows from segmented data\n",
    "sliding_windows = extract_sliding_windows(segmented_data_by_subject, window_size, stride)\n",
    "\n",
    "# Inspect the number of windows\n",
    "print(f\"Total sliding windows: {len(sliding_windows)}\")\n",
    "\n",
    "# Example: Shape of one window and its label\n",
    "example_window, example_label = sliding_windows[0]\n",
    "print(f\"Window shape: {example_window.shape}, Label: {example_label}\")"
   ]
  },
  {
   "cell_type": "code",
   "execution_count": 40,
   "id": "f47d5e97-1329-495f-a5a0-9fcd37a8b4b8",
   "metadata": {},
   "outputs": [
    {
     "name": "stdout",
     "output_type": "stream",
     "text": [
      "Training set: (7773, 500, 8), Validation set: (1666, 500, 8), Test set: (1666, 500, 8)\n"
     ]
    }
   ],
   "source": [
    "from sklearn.model_selection import train_test_split\n",
    "\n",
    "# Extract data and labels from sliding windows\n",
    "X = np.array([window for window, _ in sliding_windows])  # Shape: (num_windows, window_size, num_channels)\n",
    "y = np.array([label for _, label in sliding_windows])   # Shape: (num_windows,)\n",
    "\n",
    "# Split into training (70%), validation (15%), and test (15%)\n",
    "X_train, X_temp, y_train, y_temp = train_test_split(X, y, test_size=0.3, stratify=y, random_state=42)\n",
    "X_val, X_test, y_val, y_test = train_test_split(X_temp, y_temp, test_size=0.5, stratify=y_temp, random_state=42)\n",
    "\n",
    "print(f\"Training set: {X_train.shape}, Validation set: {X_val.shape}, Test set: {X_test.shape}\")"
   ]
  },
  {
   "cell_type": "code",
   "execution_count": 41,
   "id": "664af7e6-fe99-4134-aa0b-10a5abb3e688",
   "metadata": {},
   "outputs": [],
   "source": [
    "# Convert training and testing data to float\n",
    "X_train = X_train.astype(float)\n",
    "X_val = X_val.astype(float)\n",
    "X_test = X_test.astype(float)"
   ]
  },
  {
   "cell_type": "code",
   "execution_count": 42,
   "id": "0c89204a-73f2-4388-baa7-894b7c62f848",
   "metadata": {},
   "outputs": [
    {
     "name": "stdout",
     "output_type": "stream",
     "text": [
      "Class labels have been zero-indexed.\n"
     ]
    }
   ],
   "source": [
    "# Zero-index the class labels by subtracting 1\n",
    "y_train -= 1\n",
    "y_val -= 1\n",
    "y_test -= 1\n",
    "\n",
    "print(\"Class labels have been zero-indexed.\")"
   ]
  },
  {
   "cell_type": "code",
   "execution_count": 43,
   "id": "e1b7d15d-8f97-4f60-84c7-10314fa11f25",
   "metadata": {},
   "outputs": [
    {
     "name": "stdout",
     "output_type": "stream",
     "text": [
      "Data standardized.\n"
     ]
    }
   ],
   "source": [
    "# Standardize features across the entire training set (per channel)\n",
    "mean = X_train.mean(axis=(0, 1))  # Mean for each channel\n",
    "std = X_train.std(axis=(0, 1))    # Std for each channel\n",
    "\n",
    "# Apply standardization\n",
    "X_train = (X_train - mean) / std\n",
    "X_val = (X_val - mean) / std\n",
    "X_test = (X_test - mean) / std\n",
    "\n",
    "print(\"Data standardized.\")"
   ]
  },
  {
   "cell_type": "code",
   "execution_count": 44,
   "id": "436b52a9-70c2-4ad9-9fb7-1cc468a950d2",
   "metadata": {},
   "outputs": [
    {
     "name": "stdout",
     "output_type": "stream",
     "text": [
      "Labels converted to one-hot encoding.\n"
     ]
    }
   ],
   "source": [
    "from tensorflow.keras.utils import to_categorical\n",
    "\n",
    "# Convert labels to one-hot encoding\n",
    "num_classes = len(np.unique(y))\n",
    "y_train = to_categorical(y_train, num_classes=num_classes)\n",
    "y_val = to_categorical(y_val, num_classes=num_classes)\n",
    "y_test = to_categorical(y_test, num_classes=num_classes)\n",
    "\n",
    "print(\"Labels converted to one-hot encoding.\")"
   ]
  },
  {
   "cell_type": "code",
   "execution_count": 45,
   "id": "055d706f-8f82-411f-972a-728705389c20",
   "metadata": {},
   "outputs": [
    {
     "name": "stdout",
     "output_type": "stream",
     "text": [
      "Model: \"sequential_3\"\n",
      "_________________________________________________________________\n",
      " Layer (type)                Output Shape              Param #   \n",
      "=================================================================\n",
      " conv1d_7 (Conv1D)           (None, 498, 32)           800       \n",
      "                                                                 \n",
      " max_pooling1d_7 (MaxPoolin  (None, 249, 32)           0         \n",
      " g1D)                                                            \n",
      "                                                                 \n",
      " dropout_10 (Dropout)        (None, 249, 32)           0         \n",
      "                                                                 \n",
      " conv1d_8 (Conv1D)           (None, 247, 64)           6208      \n",
      "                                                                 \n",
      " max_pooling1d_8 (MaxPoolin  (None, 123, 64)           0         \n",
      " g1D)                                                            \n",
      "                                                                 \n",
      " dropout_11 (Dropout)        (None, 123, 64)           0         \n",
      "                                                                 \n",
      " flatten_3 (Flatten)         (None, 7872)              0         \n",
      "                                                                 \n",
      " dense_6 (Dense)             (None, 64)                503872    \n",
      "                                                                 \n",
      " dropout_12 (Dropout)        (None, 64)                0         \n",
      "                                                                 \n",
      " dense_7 (Dense)             (None, 6)                 390       \n",
      "                                                                 \n",
      "=================================================================\n",
      "Total params: 511270 (1.95 MB)\n",
      "Trainable params: 511270 (1.95 MB)\n",
      "Non-trainable params: 0 (0.00 Byte)\n",
      "_________________________________________________________________\n"
     ]
    }
   ],
   "source": [
    "from tensorflow.keras.regularizers import l2\n",
    "from tensorflow.keras.models import Sequential\n",
    "from tensorflow.keras.layers import Conv1D, MaxPooling1D, Flatten, Dense, Dropout\n",
    "from tensorflow.keras.optimizers import Adam\n",
    "\n",
    "# Define model parameters\n",
    "input_shape = (X_train.shape[1], X_train.shape[2])  # (window_size, num_channels)\n",
    "num_classes = y_train.shape[1]  # Number of gesture classes\n",
    "regularization_strength = 0.001  # Strength of L2 regularization (adjust if needed)\n",
    "\n",
    "# Build the CNN model with L2 regularization\n",
    "model = Sequential([\n",
    "    # First convolutional layer\n",
    "    Conv1D(filters=32, kernel_size=3, activation='relu', input_shape=input_shape,\n",
    "           kernel_regularizer=l2(regularization_strength)),\n",
    "    MaxPooling1D(pool_size=2),\n",
    "    Dropout(0.2),\n",
    "    \n",
    "    # Second convolutional layer\n",
    "    Conv1D(filters=64, kernel_size=3, activation='relu',\n",
    "           kernel_regularizer=l2(regularization_strength)),\n",
    "    MaxPooling1D(pool_size=2),\n",
    "    Dropout(0.2),\n",
    "    \n",
    "    # Flatten and fully connected layers\n",
    "    Flatten(),\n",
    "    Dense(64, activation='relu', kernel_regularizer=l2(regularization_strength)),\n",
    "    Dropout(0.3),\n",
    "    Dense(num_classes, activation='softmax', kernel_regularizer=l2(regularization_strength))  # Output layer\n",
    "])\n",
    "\n",
    "# Compile the model\n",
    "model.compile(optimizer=Adam(learning_rate=0.001),\n",
    "              loss='categorical_crossentropy',\n",
    "              metrics=['accuracy'])\n",
    "\n",
    "# Display the model summary\n",
    "model.summary()"
   ]
  },
  {
   "cell_type": "code",
   "execution_count": 46,
   "id": "12fbe18e-0f9d-4d68-8b7c-dffb480de977",
   "metadata": {},
   "outputs": [
    {
     "name": "stdout",
     "output_type": "stream",
     "text": [
      "Epoch 1/30\n",
      "243/243 [==============================] - 3s 10ms/step - loss: 1.3653 - accuracy: 0.5406 - val_loss: 0.8077 - val_accuracy: 0.7737\n",
      "Epoch 2/30\n",
      "243/243 [==============================] - 2s 9ms/step - loss: 0.7468 - accuracy: 0.7834 - val_loss: 0.6019 - val_accuracy: 0.8139\n",
      "Epoch 3/30\n",
      "243/243 [==============================] - 2s 9ms/step - loss: 0.6270 - accuracy: 0.8284 - val_loss: 0.5518 - val_accuracy: 0.8475\n",
      "Epoch 4/30\n",
      "243/243 [==============================] - 2s 9ms/step - loss: 0.5465 - accuracy: 0.8501 - val_loss: 0.5243 - val_accuracy: 0.8439\n",
      "Epoch 5/30\n",
      "243/243 [==============================] - 2s 9ms/step - loss: 0.5134 - accuracy: 0.8627 - val_loss: 0.4928 - val_accuracy: 0.8631\n",
      "Epoch 6/30\n",
      "243/243 [==============================] - 2s 9ms/step - loss: 0.4881 - accuracy: 0.8748 - val_loss: 0.4837 - val_accuracy: 0.8625\n",
      "Epoch 7/30\n",
      "243/243 [==============================] - 2s 9ms/step - loss: 0.4553 - accuracy: 0.8833 - val_loss: 0.5152 - val_accuracy: 0.8493\n",
      "Epoch 8/30\n",
      "243/243 [==============================] - 2s 9ms/step - loss: 0.4610 - accuracy: 0.8887 - val_loss: 0.4995 - val_accuracy: 0.8625\n",
      "Epoch 9/30\n",
      "243/243 [==============================] - 2s 10ms/step - loss: 0.4366 - accuracy: 0.8950 - val_loss: 0.5088 - val_accuracy: 0.8679\n",
      "Epoch 10/30\n",
      "243/243 [==============================] - 2s 9ms/step - loss: 0.4283 - accuracy: 0.8976 - val_loss: 0.4847 - val_accuracy: 0.8703\n",
      "Epoch 11/30\n",
      "243/243 [==============================] - 2s 9ms/step - loss: 0.4155 - accuracy: 0.9097 - val_loss: 0.4832 - val_accuracy: 0.8818\n",
      "Epoch 12/30\n",
      "243/243 [==============================] - 2s 9ms/step - loss: 0.4050 - accuracy: 0.9096 - val_loss: 0.4953 - val_accuracy: 0.8848\n",
      "Epoch 13/30\n",
      "243/243 [==============================] - 2s 10ms/step - loss: 0.4131 - accuracy: 0.9076 - val_loss: 0.4570 - val_accuracy: 0.8920\n",
      "Epoch 14/30\n",
      "243/243 [==============================] - 2s 10ms/step - loss: 0.4071 - accuracy: 0.9110 - val_loss: 0.5289 - val_accuracy: 0.8679\n",
      "Epoch 15/30\n",
      "243/243 [==============================] - 2s 10ms/step - loss: 0.3945 - accuracy: 0.9151 - val_loss: 0.4774 - val_accuracy: 0.8902\n",
      "Epoch 16/30\n",
      "243/243 [==============================] - 2s 9ms/step - loss: 0.3903 - accuracy: 0.9220 - val_loss: 0.4675 - val_accuracy: 0.8884\n",
      "Epoch 17/30\n",
      "243/243 [==============================] - 2s 9ms/step - loss: 0.3848 - accuracy: 0.9193 - val_loss: 0.4546 - val_accuracy: 0.8908\n",
      "Epoch 18/30\n",
      "243/243 [==============================] - 2s 9ms/step - loss: 0.3761 - accuracy: 0.9233 - val_loss: 0.4677 - val_accuracy: 0.8848\n",
      "Epoch 19/30\n",
      "243/243 [==============================] - 2s 9ms/step - loss: 0.3828 - accuracy: 0.9195 - val_loss: 0.4526 - val_accuracy: 0.8962\n",
      "Epoch 20/30\n",
      "243/243 [==============================] - 2s 9ms/step - loss: 0.3688 - accuracy: 0.9299 - val_loss: 0.5057 - val_accuracy: 0.8703\n",
      "Epoch 21/30\n",
      "243/243 [==============================] - 2s 9ms/step - loss: 0.3793 - accuracy: 0.9247 - val_loss: 0.4616 - val_accuracy: 0.8938\n",
      "Epoch 22/30\n",
      "243/243 [==============================] - 2s 10ms/step - loss: 0.3682 - accuracy: 0.9271 - val_loss: 0.4671 - val_accuracy: 0.8902\n",
      "Epoch 23/30\n",
      "243/243 [==============================] - 2s 10ms/step - loss: 0.3688 - accuracy: 0.9289 - val_loss: 0.4633 - val_accuracy: 0.8884\n",
      "Epoch 24/30\n",
      "243/243 [==============================] - 2s 10ms/step - loss: 0.3562 - accuracy: 0.9334 - val_loss: 0.4642 - val_accuracy: 0.8950\n",
      "Epoch 25/30\n",
      "243/243 [==============================] - 2s 10ms/step - loss: 0.3501 - accuracy: 0.9358 - val_loss: 0.4580 - val_accuracy: 0.9046\n",
      "Epoch 26/30\n",
      "243/243 [==============================] - 3s 11ms/step - loss: 0.3489 - accuracy: 0.9332 - val_loss: 0.4392 - val_accuracy: 0.8974\n",
      "Epoch 27/30\n",
      "243/243 [==============================] - 2s 10ms/step - loss: 0.3607 - accuracy: 0.9326 - val_loss: 0.4575 - val_accuracy: 0.8980\n",
      "Epoch 28/30\n",
      "243/243 [==============================] - 2s 10ms/step - loss: 0.3534 - accuracy: 0.9332 - val_loss: 0.4633 - val_accuracy: 0.8962\n",
      "Epoch 29/30\n",
      "243/243 [==============================] - 2s 10ms/step - loss: 0.3488 - accuracy: 0.9358 - val_loss: 0.4259 - val_accuracy: 0.9088\n",
      "Epoch 30/30\n",
      "243/243 [==============================] - 2s 10ms/step - loss: 0.3580 - accuracy: 0.9321 - val_loss: 0.4356 - val_accuracy: 0.9040\n",
      "Test Loss: 0.4273, Test Accuracy: 0.9100\n"
     ]
    }
   ],
   "source": [
    "history = model.fit(\n",
    "    X_train, y_train,\n",
    "    validation_data=(X_val, y_val),\n",
    "    epochs=30,  # Number of epochs\n",
    "    batch_size=32,  # Mini-batch size\n",
    "    verbose=1\n",
    ")\n",
    "\n",
    "# Evaluate the model on the test set\n",
    "test_loss, test_accuracy = model.evaluate(X_test, y_test, verbose=0)\n",
    "print(f\"Test Loss: {test_loss:.4f}, Test Accuracy: {test_accuracy:.4f}\")"
   ]
  },
  {
   "cell_type": "code",
   "execution_count": 47,
   "id": "e81fa56d-d7ce-4291-91ea-045136b4ebbd",
   "metadata": {},
   "outputs": [
    {
     "data": {
      "image/png": "[encoded data removed]",
      "text/plain": [
       "<Figure size 1200x500 with 2 Axes>"
      ]
     },
     "metadata": {},
     "output_type": "display_data"
    }
   ],
   "source": [
    "import matplotlib.pyplot as plt\n",
    "\n",
    "plt.figure(figsize=(12, 5))\n",
    "\n",
    "# Accuracy\n",
    "plt.subplot(1, 2, 1)\n",
    "plt.plot(history.history['accuracy'], label='Train Accuracy')\n",
    "plt.plot(history.history['val_accuracy'], label='Validation Accuracy')\n",
    "plt.title('Model Accuracy')\n",
    "plt.xlabel('Epochs')\n",
    "plt.ylabel('Accuracy')\n",
    "plt.legend()\n",
    "\n",
    "# Loss\n",
    "plt.subplot(1, 2, 2)\n",
    "plt.plot(history.history['loss'], label='Train Loss')\n",
    "plt.plot(history.history['val_loss'], label='Validation Loss')\n",
    "plt.title('Model Loss')\n",
    "plt.xlabel('Epochs')\n",
    "plt.ylabel('Loss')\n",
    "plt.legend()\n",
    "\n",
    "plt.show()"
   ]
  },
  {
   "cell_type": "code",
   "execution_count": 48,
   "id": "130c8b32-b057-48f9-bd11-0b1b3c70e0a4",
   "metadata": {},
   "outputs": [
    {
     "name": "stdout",
     "output_type": "stream",
     "text": [
      "Model Performance:\n",
      "Test Loss: 0.4273\n",
      "Test Accuracy: 0.9100\n",
      "Validation Loss: 0.4356\n",
      "Validation Accuracy: 0.9040\n"
     ]
    }
   ],
   "source": [
    "# Evaluate the model on the test set\n",
    "test_loss, test_accuracy = model.evaluate(X_test, y_test, verbose=0)\n",
    "\n",
    "# Print performance metrics\n",
    "print(\"Model Performance:\")\n",
    "print(f\"Test Loss: {test_loss:.4f}\")\n",
    "print(f\"Test Accuracy: {test_accuracy:.4f}\")\n",
    "\n",
    "# Optional: Evaluate on validation set for comparison\n",
    "val_loss, val_accuracy = model.evaluate(X_val, y_val, verbose=0)\n",
    "print(f\"Validation Loss: {val_loss:.4f}\")\n",
    "print(f\"Validation Accuracy: {val_accuracy:.4f}\")"
   ]
  },
  {
   "cell_type": "code",
   "execution_count": null,
   "id": "136f291c-6bf6-40b0-8afd-e9690341f428",
   "metadata": {},
   "outputs": [],
   "source": []
  }
 ],
 "metadata": {
  "kernelspec": {
   "display_name": "Python 3 (ipykernel)",
   "language": "python",
   "name": "python3"
  },
  "language_info": {
   "codemirror_mode": {
    "name": "ipython",
    "version": 3
   },
   "file_extension": ".py",
   "mimetype": "text/x-python",
   "name": "python",
   "nbconvert_exporter": "python",
   "pygments_lexer": "ipython3",
   "version": "3.10.15"
  }
 },
 "nbformat": 4,
 "nbformat_minor": 5
}
