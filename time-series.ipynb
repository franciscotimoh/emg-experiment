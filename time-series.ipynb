{
 "cells": [
  {
   "cell_type": "markdown",
   "id": "daf0964e-7190-4497-95c4-a05522d964cb",
   "metadata": {},
   "source": [
    "# Organizing the Data"
   ]
  },
  {
   "cell_type": "markdown",
   "id": "a33e79d1-1079-46fa-a406-37b743f12bdb",
   "metadata": {},
   "source": [
    "## Set up Label Folders"
   ]
  },
  {
   "cell_type": "code",
   "execution_count": 1,
   "id": "d2b5a47e-a6d0-4f84-b341-46f87c849b06",
   "metadata": {},
   "outputs": [],
   "source": [
    "from pathlib import Path\n",
    "\n",
    "import os\n",
    "import pandas as pd\n",
    "import tensorflow as tf\n",
    "import matplotlib.pyplot as plt\n",
    "import numpy as np\n",
    "\n",
    "from sklearn.model_selection import train_test_split\n",
    "from tensorflow.keras.models import Sequential\n",
    "from tensorflow.keras.layers import LSTM, Dense\n",
    "from tensorflow.keras.utils import to_categorical\n",
    "from tensorflow.keras.callbacks import EarlyStopping"
   ]
  },
  {
   "cell_type": "code",
   "execution_count": 2,
   "id": "f26fb14b-0b94-40a1-a603-6f159b7ff1ee",
   "metadata": {},
   "outputs": [],
   "source": [
    "master_folder = Path(\"EMG_data_for_gestures-master\")\n",
    "output_master_folder = master_folder / \"Processed_Data\""
   ]
  },
  {
   "cell_type": "code",
   "execution_count": 3,
   "id": "2e4b1d33-0900-49a2-bca4-82d5e66b887a",
   "metadata": {},
   "outputs": [],
   "source": [
    "labels = {\n",
    "    1: \"1_hand_at_rest\",\n",
    "    2: \"2_hand_clenched_in_a_fist\",\n",
    "    3: \"3_wrist_flexion\",\n",
    "    4: \"4_wrist_extension\",\n",
    "    5: \"5_radial_deviations\",\n",
    "    6: \"6_ulnar_deviations\",\n",
    "    7: \"7_extended_palm\"\n",
    "}"
   ]
  },
  {
   "cell_type": "code",
   "execution_count": 4,
   "id": "d66e5ade-1e10-49b3-a91f-ec4523bf996d",
   "metadata": {},
   "outputs": [],
   "source": [
    "# Create output folders\n",
    "output_master_folder.mkdir(exist_ok=True)\n",
    "for label_name in labels.values():\n",
    "    (output_master_folder / label_name).mkdir(exist_ok=True)"
   ]
  },
  {
   "cell_type": "markdown",
   "id": "aca9c188-e63e-4885-851b-3014b3244a9d",
   "metadata": {},
   "source": [
    "### Cleaning up Processed Data Folders"
   ]
  },
  {
   "cell_type": "code",
   "execution_count": 34,
   "id": "03e8ac23-669b-4232-bd5c-683086b3c6df",
   "metadata": {},
   "outputs": [],
   "source": [
    "import shutil\n",
    "\n",
    "# Step to clean up output folders before processing\n",
    "def clean_output_folders(output_master_folder):\n",
    "    if output_master_folder.exists():\n",
    "        for label in labels.values():\n",
    "            label_folder = output_master_folder / label\n",
    "            if label_folder.exists():\n",
    "                # Remove all files in the label folder\n",
    "                for file in label_folder.iterdir():\n",
    "                    if file.is_file():\n",
    "                        file.unlink()  # Delete file\n",
    "    else:\n",
    "        # Create the master folder if it doesn't exist\n",
    "        output_master_folder.mkdir(parents=True)\n",
    "\n",
    "# Clean the output folders\n",
    "clean_output_folders(output_master_folder)\n",
    "\n",
    "# Recreate empty output folders for each label\n",
    "for label in labels.values():\n",
    "    (output_master_folder / label).mkdir(exist_ok=True)"
   ]
  },
  {
   "cell_type": "code",
   "execution_count": 20,
   "id": "983d2214-8470-4e38-8c13-dffef90d1e06",
   "metadata": {},
   "outputs": [],
   "source": [
    "for i in range(1, 37):\n",
    "    f_num = i\n",
    "    subfolder = os.path.join(master_folder, str(f_num))\n",
    "    if f_num < 10:\n",
    "        subfolder = os.path.join(master_folder, \"0\" + str(f_num))\n",
    "\n",
    "    for filename in os.listdir(subfolder):\n",
    "        if filename.endswith(\".txt\"):\n",
    "            filepath = os.path.join(subfolder, filename)\n",
    "            # Step 1: Read the file\n",
    "            df = pd.read_csv(filepath, delim_whitespace=True)\n",
    "\n",
    "            # Step 2: Remove rows with class label NaN and 0\n",
    "            df = df[df[\"class\"].notna()]\n",
    "            df = df[df[\"class\"] != 0]\n",
    "\n",
    "            # Step 3: Group data by contiguous blocks of the same label\n",
    "            current_label = None\n",
    "            segment_data = []\n",
    "            segment_count = {label: 0 for label in labels.values()}\n",
    "\n",
    "            for _, row in df.iterrows():\n",
    "                if row[\"class\"] != current_label:\n",
    "                    # Save the previous segment if it exists\n",
    "                    if segment_data:\n",
    "                        segment_df = pd.DataFrame(segment_data, columns=df.columns)\n",
    "                        label_name = labels[int(current_label)]\n",
    "                        segment_count[label_name] += 1\n",
    "                        segment_path = output_master_folder / label_name / f\"subject_{i}_segment_{segment_count[label_name]}.csv\"\n",
    "                        segment_df.to_csv(segment_path, index=False)\n",
    "                        segment_data = []\n",
    "                    current_label = row[\"class\"]\n",
    "\n",
    "                segment_data.append(row)\n",
    "\n",
    "            # Save the final segment\n",
    "            if segment_data:\n",
    "                segment_df = pd.DataFrame(segment_data, columns=df.columns)\n",
    "                label_name = labels[int(current_label) - 1]\n",
    "                segment_count[label_name] += 1\n",
    "                segment_path = output_master_folder / label_name / f\"subject_{i}_segment_{segment_count[label_name]}.csv\"\n",
    "                segment_df.to_csv(segment_path, index=False)"
   ]
  },
  {
   "cell_type": "markdown",
   "id": "b98655e1-e7d2-4994-9cab-0301984b6320",
   "metadata": {},
   "source": [
    "## Preprocessing Data"
   ]
  },
  {
   "cell_type": "code",
   "execution_count": 21,
   "id": "95abc384-c7de-455c-b9d4-4f571d08e057",
   "metadata": {},
   "outputs": [],
   "source": [
    "def loadData(folder):\n",
    "    data = []\n",
    "    labels = []\n",
    "    \n",
    "    for class_folder in os.listdir(folder):\n",
    "        class_path = os.path.join(output_master_folder, class_folder)\n",
    "        if os.path.isdir(class_path):\n",
    "            class_label = int(class_folder.split(\"_\")[0])\n",
    "            for file in os.listdir(class_path):\n",
    "                file_path = os.path.join(class_path, file)\n",
    "                if file.endswith(\".csv\"):\n",
    "                    trial = pd.read_csv(file_path)\n",
    "                    # Drop 'time' column for now; focus on channels and class\n",
    "                    data.append(trial.drop(columns=[\"time\", \"class\"]).to_numpy())\n",
    "                    labels.append(class_label)\n",
    "    \n",
    "    return data, labels"
   ]
  },
  {
   "cell_type": "code",
   "execution_count": 22,
   "id": "c0a01192-0cf8-4359-b7cc-0c00c6446372",
   "metadata": {},
   "outputs": [],
   "source": [
    "# Load data from processed data folder\n",
    "all_trials, all_labels = loadData(output_master_folder)"
   ]
  },
  {
   "cell_type": "code",
   "execution_count": 26,
   "id": "e0e4edb4-c7ec-44c4-a91d-9bffbab148fd",
   "metadata": {},
   "outputs": [],
   "source": [
    "# Remap labels to be zero-based\n",
    "all_labels = [label - 1 for label in all_labels]"
   ]
  },
  {
   "cell_type": "code",
   "execution_count": 27,
   "id": "35e477e8-d9cf-44ec-9110-55b0886ef5c6",
   "metadata": {},
   "outputs": [],
   "source": [
    "# Split trials (randomized at the trial level)\n",
    "train_trials, test_trials, train_labels, test_labels = train_test_split(\n",
    "    all_trials, all_labels, test_size=0.2, random_state=42\n",
    ")\n",
    "train_trials, val_trials, train_labels, val_labels = train_test_split(\n",
    "    train_trials, train_labels, test_size=0.25, random_state=42  # 60% train, 20% val, 20% test\n",
    ")"
   ]
  },
  {
   "cell_type": "code",
   "execution_count": 28,
   "id": "25b1f1ef-9362-44cf-a238-49580794a392",
   "metadata": {},
   "outputs": [],
   "source": [
    "# Creating Sliding Windows\n",
    "def create_sliding_windows(data, labels, window_size, step_size):\n",
    "    X, y = [], []\n",
    "\n",
    "    for trial, label in zip(data, labels):\n",
    "        num_samples = trial.shape[0]\n",
    "        for start in range(0, num_samples - window_size + 1, step_size):\n",
    "            end = start + window_size\n",
    "            X.append(trial[start:end])\n",
    "            y.append(label)\n",
    "            \n",
    "    return np.array(X), np.array(y)"
   ]
  },
  {
   "cell_type": "code",
   "execution_count": 29,
   "id": "bc20d5db-6b9e-4835-aaeb-a4ff5d303f4a",
   "metadata": {},
   "outputs": [
    {
     "name": "stdout",
     "output_type": "stream",
     "text": [
      "X_train shape: (8609, 100, 8)\n",
      "y_train shape: (8609, 7)\n"
     ]
    }
   ],
   "source": [
    "window_size = 100 # Number of timesteps per window\n",
    "step_size = 50\n",
    "\n",
    "# Create windows for training, validation, and testing\n",
    "X_train, y_train = create_sliding_windows(train_trials, train_labels, window_size, step_size)\n",
    "X_val, y_val = create_sliding_windows(val_trials, val_labels, window_size, step_size)\n",
    "X_test, y_test = create_sliding_windows(test_trials, test_labels, window_size, step_size)\n",
    "\n",
    "# Convert labels to one-hot encoding\n",
    "num_classes = len(set(all_labels))  # Number of unique classifications\n",
    "y_train = to_categorical(y_train, num_classes=num_classes)\n",
    "y_val = to_categorical(y_val, num_classes=num_classes)\n",
    "y_test = to_categorical(y_test, num_classes=num_classes)\n",
    "\n",
    "# Print shapes for sanity check\n",
    "print(\"X_train shape:\", X_train.shape)  # (num_windows, window_size, num_channels)\n",
    "print(\"y_train shape:\", y_train.shape)  # (num_windows, num_classes)"
   ]
  },
  {
   "cell_type": "markdown",
   "id": "a4a7c6ee-45d9-4a49-827c-a77fa71abe39",
   "metadata": {},
   "source": [
    "## Building and Training the LSTM Model"
   ]
  },
  {
   "cell_type": "code",
   "execution_count": 30,
   "id": "6159db61-e79f-40d8-8bdf-526085b48eb6",
   "metadata": {},
   "outputs": [],
   "source": [
    "def build_lstm_model(input_shape, num_classes):\n",
    "    model = Sequential([\n",
    "        LSTM(64, return_sequences=False, input_shape=input_shape),\n",
    "        Dense(32, activation='relu'),\n",
    "        Dense(num_classes, activation='softmax')\n",
    "    ])\n",
    "    model.compile(optimizer='adam', loss='categorical_crossentropy', metrics=['accuracy'])\n",
    "    return model"
   ]
  },
  {
   "cell_type": "code",
   "execution_count": 31,
   "id": "2a2f9c09-242c-4f02-8eb9-f8ae163be95f",
   "metadata": {},
   "outputs": [
    {
     "name": "stdout",
     "output_type": "stream",
     "text": [
      "Model: \"sequential\"\n",
      "_________________________________________________________________\n",
      " Layer (type)                Output Shape              Param #   \n",
      "=================================================================\n",
      " lstm (LSTM)                 (None, 64)                18688     \n",
      "                                                                 \n",
      " dense (Dense)               (None, 32)                2080      \n",
      "                                                                 \n",
      " dense_1 (Dense)             (None, 7)                 231       \n",
      "                                                                 \n",
      "=================================================================\n",
      "Total params: 20999 (82.03 KB)\n",
      "Trainable params: 20999 (82.03 KB)\n",
      "Non-trainable params: 0 (0.00 Byte)\n",
      "_________________________________________________________________\n"
     ]
    }
   ],
   "source": [
    "input_shape = (window_size, X_train.shape[2])  # (timesteps, num_channels)\n",
    "model = build_lstm_model(input_shape, num_classes)\n",
    "model.summary()"
   ]
  },
  {
   "cell_type": "code",
   "execution_count": 32,
   "id": "37ad2338-c7d1-4fd6-a197-9779f3d30674",
   "metadata": {},
   "outputs": [
    {
     "name": "stdout",
     "output_type": "stream",
     "text": [
      "Epoch 1/50\n",
      "270/270 [==============================] - 5s 14ms/step - loss: 1.7931 - accuracy: 0.2566 - val_loss: 1.8068 - val_accuracy: 0.2421\n",
      "Epoch 2/50\n",
      "270/270 [==============================] - 4s 14ms/step - loss: 1.7809 - accuracy: 0.2576 - val_loss: 1.7563 - val_accuracy: 0.2421\n",
      "Epoch 3/50\n",
      "270/270 [==============================] - 4s 14ms/step - loss: 1.7794 - accuracy: 0.2576 - val_loss: 1.7534 - val_accuracy: 0.2421\n",
      "Epoch 4/50\n",
      "270/270 [==============================] - 4s 14ms/step - loss: 1.7782 - accuracy: 0.2576 - val_loss: 1.7668 - val_accuracy: 0.2421\n",
      "Epoch 5/50\n",
      "270/270 [==============================] - 4s 14ms/step - loss: 1.7793 - accuracy: 0.2576 - val_loss: 1.7682 - val_accuracy: 0.2421\n",
      "Epoch 6/50\n",
      "270/270 [==============================] - 4s 14ms/step - loss: 1.7790 - accuracy: 0.2576 - val_loss: 1.7607 - val_accuracy: 0.2421\n",
      "Epoch 7/50\n",
      "270/270 [==============================] - 4s 14ms/step - loss: 1.7790 - accuracy: 0.2576 - val_loss: 1.7642 - val_accuracy: 0.2421\n",
      "Epoch 8/50\n",
      "270/270 [==============================] - 4s 14ms/step - loss: 1.7788 - accuracy: 0.2576 - val_loss: 1.7623 - val_accuracy: 0.2421\n"
     ]
    }
   ],
   "source": [
    "early_stopping = EarlyStopping(monitor='val_loss', patience=5, restore_best_weights=True)\n",
    "\n",
    "history = model.fit(\n",
    "    X_train, y_train,\n",
    "    validation_data=(X_val, y_val),\n",
    "    epochs=50,\n",
    "    batch_size=32,\n",
    "    callbacks=[early_stopping]\n",
    ")"
   ]
  },
  {
   "cell_type": "markdown",
   "id": "49f65420-d320-46c8-bf76-d56e12fea761",
   "metadata": {},
   "source": [
    "## Evaluation"
   ]
  },
  {
   "cell_type": "code",
   "execution_count": 33,
   "id": "da44548a-f236-4712-b2b3-f774ceeb134d",
   "metadata": {},
   "outputs": [
    {
     "name": "stdout",
     "output_type": "stream",
     "text": [
      "94/94 [==============================] - 0s 5ms/step - loss: 1.8374 - accuracy: 0.2123\n",
      "Test Loss: 1.8373682498931885\n",
      "Test Accuracy: 0.21227364242076874\n"
     ]
    }
   ],
   "source": [
    "test_loss, test_accuracy = model.evaluate(X_test, y_test)\n",
    "print(f\"Test Loss: {test_loss}\")\n",
    "print(f\"Test Accuracy: {test_accuracy}\")"
   ]
  },
  {
   "cell_type": "code",
   "execution_count": null,
   "id": "c84fbe18-677a-4994-ac77-c53471d35026",
   "metadata": {},
   "outputs": [],
   "source": []
  }
 ],
 "metadata": {
  "kernelspec": {
   "display_name": "Python 3 (ipykernel)",
   "language": "python",
   "name": "python3"
  },
  "language_info": {
   "codemirror_mode": {
    "name": "ipython",
    "version": 3
   },
   "file_extension": ".py",
   "mimetype": "text/x-python",
   "name": "python",
   "nbconvert_exporter": "python",
   "pygments_lexer": "ipython3",
   "version": "3.10.15"
  }
 },
 "nbformat": 4,
 "nbformat_minor": 5
}
