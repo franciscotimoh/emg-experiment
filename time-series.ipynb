{
 "cells": [
  {
   "cell_type": "markdown",
   "id": "daf0964e-7190-4497-95c4-a05522d964cb",
   "metadata": {},
   "source": [
    "# Organizing the Data"
   ]
  },
  {
   "cell_type": "markdown",
   "id": "a33e79d1-1079-46fa-a406-37b743f12bdb",
   "metadata": {},
   "source": [
    "## Set up Label Folders"
   ]
  },
  {
   "cell_type": "code",
   "execution_count": 1,
   "id": "d2b5a47e-a6d0-4f84-b341-46f87c849b06",
   "metadata": {},
   "outputs": [],
   "source": [
    "from pathlib import Path\n",
    "\n",
    "import os\n",
    "import pandas as pd\n",
    "import tensorflow as tf\n",
    "import matplotlib.pyplot as plt\n",
    "import numpy as np"
   ]
  },
  {
   "cell_type": "code",
   "execution_count": 2,
   "id": "f26fb14b-0b94-40a1-a603-6f159b7ff1ee",
   "metadata": {},
   "outputs": [],
   "source": [
    "master_folder = Path(\"EMG_data_for_gestures-master\")\n",
    "output_master_folder = master_folder / \"Processed_Data\""
   ]
  },
  {
   "cell_type": "code",
   "execution_count": 3,
   "id": "2e4b1d33-0900-49a2-bca4-82d5e66b887a",
   "metadata": {},
   "outputs": [],
   "source": [
    "labels = {\n",
    "    1: \"1_hand_at_rest\",\n",
    "    2: \"2_hand_clenched_in_a_fist\",\n",
    "    3: \"3_wrist_flexion\",\n",
    "    4: \"4_wrist_extension\",\n",
    "    5: \"5_radial_deviations\",\n",
    "    6: \"6_ulnar_deviations\",\n",
    "    7: \"7_extended_palm\"\n",
    "}"
   ]
  },
  {
   "cell_type": "code",
   "execution_count": 4,
   "id": "d66e5ade-1e10-49b3-a91f-ec4523bf996d",
   "metadata": {},
   "outputs": [],
   "source": [
    "# Create output folders\n",
    "output_master_folder.mkdir(exist_ok=True)\n",
    "for label_name in labels.values():\n",
    "    (output_master_folder / label_name).mkdir(exist_ok=True)"
   ]
  },
  {
   "cell_type": "code",
   "execution_count": 5,
   "id": "983d2214-8470-4e38-8c13-dffef90d1e06",
   "metadata": {},
   "outputs": [],
   "source": [
    "for i in range(1, 2): # Change 2 to 37 when ready\n",
    "    f_num = i\n",
    "    subfolder = os.path.join(master_folder, str(f_num))\n",
    "    if f_num < 10:\n",
    "        subfolder = os.path.join(master_folder, \"0\" + str(f_num))\n",
    "\n",
    "    for filename in os.listdir(subfolder):\n",
    "        if filename.endswith(\".txt\"):\n",
    "            filepath = os.path.join(subfolder, filename)\n",
    "            # Step 1: Read the file\n",
    "            df = pd.read_csv(filepath, delim_whitespace=True)\n",
    "\n",
    "            # Step 2: Remove rows with class label 0\n",
    "            df = df[df[\"class\"] != 0]\n",
    "\n",
    "            # Step 3: Group data by contiguous blocks of the same label\n",
    "            current_label = None\n",
    "            segment_data = []\n",
    "            segment_count = {label: 0 for label in labels.values()}\n",
    "\n",
    "            for _, row in df.iterrows():\n",
    "                if row[\"class\"] != current_label:\n",
    "                    # Save the previous segment if it exists\n",
    "                    if segment_data:\n",
    "                        segment_df = pd.DataFrame(segment_data, columns=df.columns)\n",
    "                        label_name = labels[int(current_label)]\n",
    "                        segment_count[label_name] += 1\n",
    "                        segment_path = output_master_folder / label_name / f\"segment_{segment_count[label_name]}.csv\"\n",
    "                        segment_df.to_csv(segment_path, index=False)\n",
    "                        segment_data = []\n",
    "                    current_label = row[\"class\"]\n",
    "\n",
    "                segment_data.append(row)\n",
    "\n",
    "            # Save the final segment\n",
    "            if segment_data:\n",
    "                segment_df = pd.DataFrame(segment_data, columns=df.columns)\n",
    "                label_name = labels[int(current_label) - 1]\n",
    "                segment_count[label_name] += 1\n",
    "                segment_path = output_master_folder / label_name / f\"segment_{segment_count[label_name]}.csv\"\n",
    "                segment_df.to_csv(segment_path, index=False)"
   ]
  },
  {
   "cell_type": "code",
   "execution_count": null,
   "id": "b626b6fb-f7c8-4f68-9c23-1d6f3d892caf",
   "metadata": {},
   "outputs": [],
   "source": []
  }
 ],
 "metadata": {
  "kernelspec": {
   "display_name": "Python 3 (ipykernel)",
   "language": "python",
   "name": "python3"
  },
  "language_info": {
   "codemirror_mode": {
    "name": "ipython",
    "version": 3
   },
   "file_extension": ".py",
   "mimetype": "text/x-python",
   "name": "python",
   "nbconvert_exporter": "python",
   "pygments_lexer": "ipython3",
   "version": "3.10.15"
  }
 },
 "nbformat": 4,
 "nbformat_minor": 5
}
